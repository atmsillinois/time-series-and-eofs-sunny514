{
 "cells": [
  {
   "cell_type": "markdown",
   "id": "eccdffd5",
   "metadata": {},
   "source": [
    "Modified from [https://github.com/jiwidi/time-series-forecasting-with-python]"
   ]
  },
  {
   "cell_type": "code",
   "execution_count": null,
   "id": "d3cf3463",
   "metadata": {},
   "outputs": [],
   "source": [
    "import warnings\n",
    "\n",
    "import matplotlib as mpl\n",
    "import numpy as np\n",
    "import pandas as pd  # Basic library for all of our dataset operations\n",
    "import statsmodels as sm\n",
    "import tensorflow as tf\n",
    "from matplotlib import pyplot as plt\n",
    "from pylab import rcParams\n",
    "from sklearn.linear_model import LinearRegression\n",
    "from statsmodels.graphics.tsaplots import plot_acf, plot_pacf\n",
    "from statsmodels.tsa import api as smt\n",
    "from statsmodels.tsa.seasonal import seasonal_decompose\n",
    "from statsmodels.tsa.stattools import adfuller\n",
    "\n",
    "\n",
    "# We will use deprecated models of statmodels which throw a lot of warnings to use more modern ones\n",
    "warnings.filterwarnings(\"ignore\")\n",
    "\n",
    "\n",
    "# Extra settings\n",
    "seed = 42\n",
    "tf.random.set_seed(seed)\n",
    "np.random.seed(seed)\n",
    "plt.style.use('bmh')\n",
    "mpl.rcParams['axes.labelsize'] = 14\n",
    "mpl.rcParams['xtick.labelsize'] = 12\n",
    "mpl.rcParams['ytick.labelsize'] = 12\n",
    "mpl.rcParams['text.color'] = 'k'\n",
    "print(tf.__version__)"
   ]
  },
  {
   "cell_type": "markdown",
   "id": "af6a6573",
   "metadata": {},
   "source": [
    "# 📚 Time series analysis and transforms"
   ]
  },
  {
   "cell_type": "markdown",
   "id": "0773b3f0",
   "metadata": {},
   "source": [
    "This notebook contains a set of operations we can perform in our time series in order to get some insights or transform the series to make forecasting easier.\n",
    "\n",
    "Which ones will we touching in this notebook?\n",
    "\n",
    "* Time series decomposition\n",
    "  * Level\n",
    "  * Trend\n",
    "  * Seasonality\n",
    "  * Noise\n",
    "\n",
    "* Stationarity\n",
    "  * AC and PAC plots\n",
    "  * Rolling mean and std\n",
    "  * Dickey-Fuller test\n",
    "\n",
    "* Making our time series stationary\n",
    "  * Difference transform\n",
    "  * Log scale\n",
    "  * Smoothing\n",
    "  * Moving average"
   ]
  },
  {
   "cell_type": "markdown",
   "id": "64efe1ac",
   "metadata": {},
   "source": [
    "## Load the dataset and quick preview"
   ]
  },
  {
   "cell_type": "code",
   "execution_count": null,
   "id": "c71dec91",
   "metadata": {},
   "outputs": [],
   "source": [
    "air_pollution = pd.read_csv('datasets/air_pollution.csv', parse_dates=['date'])\n",
    "air_pollution.set_index('date', inplace=True)\n",
    "air_pollution.head()"
   ]
  },
  {
   "cell_type": "code",
   "execution_count": null,
   "id": "5d8cf64d",
   "metadata": {},
   "outputs": [],
   "source": [
    "air_pollution.describe()"
   ]
  },
  {
   "cell_type": "markdown",
   "id": "669f9971",
   "metadata": {},
   "source": [
    "Lets check each feature values"
   ]
  },
  {
   "cell_type": "code",
   "execution_count": null,
   "id": "ccdd297d",
   "metadata": {},
   "outputs": [],
   "source": [
    "values = air_pollution.values\n",
    "groups = [0, 1, 2, 3, 4, 5, 6, 7]\n",
    "i = 1\n",
    "# plot each column\n",
    "for group in groups:\n",
    "    plt.subplot(len(groups), 1, i)\n",
    "    plt.plot(values[:, group])\n",
    "    plt.title(air_pollution.columns[group], y=0.5, loc='right')\n",
    "    i += 1\n",
    "\n",
    "\n",
    "plt.show()"
   ]
  },
  {
   "cell_type": "code",
   "execution_count": null,
   "id": "8caa3fa6",
   "metadata": {},
   "outputs": [],
   "source": [
    "plt.figure(num=None, figsize=(30, 10), dpi=80, facecolor='w', edgecolor='k')\n",
    "plt.title('Air pollution', fontsize=30)\n",
    "\n",
    "plt.plot(air_pollution.pollution_today)\n",
    "plt.savefig(\"results/pollution.png\")"
   ]
  },
  {
   "cell_type": "markdown",
   "id": "f9554dfd",
   "metadata": {
    "incorrectly_encoded_metadata": "toc-hr-collapsed=true"
   },
   "source": [
    "## Decomposing our time series"
   ]
  },
  {
   "cell_type": "markdown",
   "id": "ed394453",
   "metadata": {},
   "source": [
    "One of the most common analysis for time series is decomposing it into multiple parts. The parts we can divide a time series into are: level, trend, seasonality and noise, all series contain level and noise but seasonality and trend are not always present (there will be more analysis for this two parts).\n",
    "\n",
    "This 4 parts can combine either additively or multiplicatively into the time series.\n",
    "\n",
    "##### Additive Model\n",
    "`y(t) = Level + Trend + Seasonality + Noise`\n",
    "\n",
    "Additives models are lineal. Trend is linear and seasonality has constant frequency and amplitude. Change is constant over time\n",
    "\n",
    "##### Multiplicative model\n",
    "`y(t) = Level * Trend * Seasonality * Noise`\n",
    "\n",
    "Multiplicatives models are nonlinear,trend is curved and seasonality is not constant. Change is not constant over time\n",
    "\n",
    "Decomposing is used to analyse the time series. Identify each one of the different parts of the time series and its behaviour, each of the components may affect your models in different ways.\n",
    "\n",
    "Most time series are a combination of a additive model and a multiplicate model, is hard to identify real world time series into one single model.\n",
    "\n",
    "##### Automatic time series decomposition\n",
    "\n",
    "Statsmodel python library provides a function [seasonal_compose()](http://www.statsmodels.org/dev/generated/statsmodels.tsa.seasonal.seasonal_decompose.html) to automatically decompose a time series, you still need to specify wether the model is additive or multiplicative. We will use multiplicative as our quick peak at the pm2.5 time series shows no linear trend."
   ]
  },
  {
   "cell_type": "code",
   "execution_count": null,
   "id": "456e7bc5",
   "metadata": {},
   "outputs": [],
   "source": [
    "rcParams['figure.figsize'] = 18, 8\n",
    "plt.figure(num=None, figsize=(50, 20), dpi=80, facecolor='w', edgecolor='k')\n",
    "series = air_pollution.pollution_today[:365]\n",
    "result = seasonal_decompose(series, model='multiplicative')\n",
    "result.plot()"
   ]
  },
  {
   "cell_type": "markdown",
   "id": "244ed711",
   "metadata": {},
   "source": [
    "### Level"
   ]
  },
  {
   "cell_type": "markdown",
   "id": "4de90d47",
   "metadata": {},
   "source": [
    "Level simply means the current value of the series once we remove trend, seasonality and the random noise. This are the true values that come from the series itself and we will try to predict with our models. Most of the models will benefit the more our time series is composed by the level and not trends/seasonality/noise. We also present models capable of handling seasonality and trend (non stationary series)"
   ]
  },
  {
   "cell_type": "markdown",
   "id": "63abb50a",
   "metadata": {},
   "source": [
    "### Trend"
   ]
  },
  {
   "cell_type": "markdown",
   "id": "8e6147aa",
   "metadata": {},
   "source": [
    "A trend is observed when there is an increasing or decreasing slope observed in the time series. A trend is a smooth, general, long-term, average tendency. It is not always necessary that the increase or decrease is in the same direction throughout the given period of time.\n",
    "\n",
    "Trend can be removed from your time series data (and data in the future) as a data preparation and cleaning exercise. This is common when using statistical methods for time series forecasting, but does not always improve results when using machine learning models. We will see different methods for this in the making your series stationary section\n",
    "\n",
    "In practice, identifying a trend in a time series can be a subjective process as we are never sure if contains seasonalities or noise to it,\n",
    "Create line plots of your data and inspect the plots for obvious trends.\n",
    "\n",
    "Now we will try some methods to check for trend in our series:\n",
    "* Automatic decomposing\n",
    "* Moving average\n",
    "* Fit a linear regression model to identify trend\n",
    "\n"
   ]
  },
  {
   "cell_type": "code",
   "execution_count": null,
   "id": "dabb67de",
   "metadata": {},
   "outputs": [],
   "source": [
    "fig = plt.figure(figsize=(15, 7))\n",
    "layout = (3, 2)\n",
    "pm_ax = plt.subplot2grid(layout, (0, 0), colspan=2)\n",
    "mv_ax = plt.subplot2grid(layout, (1, 0), colspan=2)\n",
    "fit_ax = plt.subplot2grid(layout, (2, 0), colspan=2)\n",
    "\n",
    "pm_ax.plot(result.trend)\n",
    "pm_ax.set_title(\"Automatic decomposed trend\")\n",
    "\n",
    "mm = air_pollution.pollution_today.rolling(12).mean()\n",
    "mv_ax.plot(mm)\n",
    "mv_ax.set_title(\"Moving average 12 steps\")\n",
    "\n",
    "\n",
    "X = [i for i in range(0, len(air_pollution.pollution_today))]\n",
    "X = np.reshape(X, (len(X), 1))\n",
    "y = air_pollution.pollution_today.values\n",
    "model = LinearRegression()\n",
    "model.fit(X, y)\n",
    "# calculate trend\n",
    "trend = model.predict(X)\n",
    "fit_ax.plot(trend)\n",
    "fit_ax.set_title(\"Trend fitted by linear regression\")\n",
    "\n",
    "plt.tight_layout()"
   ]
  },
  {
   "cell_type": "markdown",
   "id": "ccad001e",
   "metadata": {},
   "source": [
    "We can see our series does not have a strong trend, results from both the automatic decomposition and the moving average look more like a seasonality efect+random noise than a trend. This sort of confirmed with our linear regression, which cant find our series properly and gives us a poor trend.\n",
    "\n",
    "We could also try to split our series into smaller ones to try identify subtrends with the mentioned methods but we will not be doing so in this section."
   ]
  },
  {
   "cell_type": "markdown",
   "id": "ba8b366e",
   "metadata": {
    "incorrectly_encoded_metadata": "toc-hr-collapsed=true"
   },
   "source": [
    "### Seasonality\n",
    "Seasonality is observed when there is a distinct repeated pattern observed between regular intervals due to seasonal factors. It could be because of the month of the year, the day of the month, weekdays or even time of the day. For example the amount of sunscream protector (always low in winter and high in summer).\n",
    "\n",
    "The automatic decomposing chart did not gave us a good look into the decomposed seasonality, let's try decomposing smaller parts of the time series first and test seasonalities we found into the others.\n",
    "\n",
    "Lets go with the first year of data only now:"
   ]
  },
  {
   "cell_type": "code",
   "execution_count": null,
   "id": "2023e74f",
   "metadata": {},
   "outputs": [],
   "source": [
    "rcParams['figure.figsize'] = 18, 8\n",
    "plt.figure(num=None, figsize=(50, 20), dpi=80, facecolor='w', edgecolor='k')\n",
    "series = air_pollution.pollution_today[:365]\n",
    "result = seasonal_decompose(series, model='multiplicative')\n",
    "result.plot()"
   ]
  },
  {
   "cell_type": "markdown",
   "id": "c27b1227",
   "metadata": {},
   "source": [
    "Here can see a clear weekly trend, 4 spikes every month (weerkly). Lets check how the last year of data looks"
   ]
  },
  {
   "cell_type": "code",
   "execution_count": null,
   "id": "d3d47440",
   "metadata": {},
   "outputs": [],
   "source": [
    "rcParams['figure.figsize'] = 18, 8\n",
    "plt.figure(num=None, figsize=(50, 20), dpi=80, facecolor='w', edgecolor='k')\n",
    "series = air_pollution.pollution_today[-365:]\n",
    "result = seasonal_decompose(series, model='multiplicative')\n",
    "result.plot()"
   ]
  },
  {
   "cell_type": "markdown",
   "id": "ff4ce62c",
   "metadata": {},
   "source": [
    "We see another weekly seasonality(4 spikes between every month) but a bit different to the original one, this is something we should always expect from real datasets as their seasonalities will never be perfect but a combination of multiples."
   ]
  },
  {
   "cell_type": "markdown",
   "id": "6a2eb7a3",
   "metadata": {},
   "source": [
    "## INTERPRETATION"
   ]
  },
  {
   "cell_type": "code",
   "execution_count": null,
   "id": "89a663a1",
   "metadata": {},
   "outputs": [],
   "source": [
    "# Looking for weekly seasonality\n",
    "resample = air_pollution.resample('W')\n",
    "weekly_mean = resample.mean()\n",
    "weekly_mean.pollution_today.plot(label='Weekly mean')\n",
    "plt.title(\"Resampled series to weekly mean values\")\n",
    "plt.legend()"
   ]
  },
  {
   "cell_type": "markdown",
   "id": "80c6a10a",
   "metadata": {},
   "source": [
    "**Manual methods to find seasonalities**"
   ]
  },
  {
   "cell_type": "markdown",
   "id": "3acceb8a",
   "metadata": {},
   "source": [
    "We can also try to generate a model to find the seasonalities for us. One of the most common to use is a simple polynomial model."
   ]
  },
  {
   "cell_type": "code",
   "execution_count": null,
   "id": "57473113",
   "metadata": {},
   "outputs": [],
   "source": [
    "# Fix xticks to show dates\n",
    "# fit polynomial: x^2*b1 + x*b2 + ... + bn\n",
    "series = air_pollution.pollution_today.values\n",
    "X = [i % 365 for i in range(0, len(series))]\n",
    "y = series\n",
    "degree = 100\n",
    "coef = np.polyfit(X, y, degree)\n",
    "# create curve\n",
    "curve = list()\n",
    "for i in range(len(X)):\n",
    "    value = coef[-1]\n",
    "    for d in range(degree):\n",
    "        value += X[i]**(degree-d) * coef[d]\n",
    "    curve.append(value)\n",
    "# plot curve over original data\n",
    "plt.plot(series, label='Original')\n",
    "plt.plot(curve, color='red', linewidth=3, label='polynomial model')\n",
    "plt.legend()\n",
    "plt.title(\"Polynomial fit to find seasonality\")\n",
    "plt.show()"
   ]
  },
  {
   "cell_type": "markdown",
   "id": "49163559",
   "metadata": {},
   "source": [
    "We can see how the model to find a seasonality fits poorly to our data. Is going to be a complicate time series to model :P"
   ]
  },
  {
   "cell_type": "markdown",
   "id": "674756ba",
   "metadata": {},
   "source": [
    "### Noise"
   ]
  },
  {
   "cell_type": "markdown",
   "id": "feaff807",
   "metadata": {},
   "source": [
    "Our time series will also have a noise component to them, most likely [white noise](https://en.wikipedia.org/wiki/White_noise). We say white noise is present if the measurement are independent and identically distributed with a mean of zero. This will mean all our measurements have same variance and no correlation with the rest of values in the series.\n",
    "\n",
    "If our time series has white noise this will mean we can't predict that component of the series (as is random) and we shoul aim to produce a model with errors close to this white noise.\n",
    "\n",
    "How to check if our series has white noise?\n",
    "* Check our series histogram, does it look like a Gaussian distribution? Mean=0 and constand std\n",
    "* Correlation plots\n",
    "* Standard deviation distribution, is it a Gaussian distribution?\n",
    "* Does the mean or level change over time?"
   ]
  },
  {
   "cell_type": "code",
   "execution_count": null,
   "id": "dd9ede4c",
   "metadata": {},
   "outputs": [],
   "source": [
    "fig = plt.figure(figsize=(12, 7))\n",
    "layout = (2, 2)\n",
    "hist_ax = plt.subplot2grid(layout, (0, 0))\n",
    "ac_ax = plt.subplot2grid(layout, (1, 0))\n",
    "hist_std_ax = plt.subplot2grid(layout, (0, 1))\n",
    "mean_ax = plt.subplot2grid(layout, (1, 1))\n",
    "\n",
    "air_pollution.pollution_today.hist(ax=hist_ax)\n",
    "hist_ax.set_title(\"Original series histogram\")\n",
    "\n",
    "plot_acf(series, lags=30, ax=ac_ax)\n",
    "ac_ax.set_title(\"Autocorrelation\")\n",
    "\n",
    "mm = air_pollution.pollution_today.rolling(7).std()\n",
    "mm.hist(ax=hist_std_ax)\n",
    "hist_std_ax.set_title(\"Standard deviation histogram\")\n",
    "\n",
    "mm = air_pollution.pollution_today.rolling(30).mean()\n",
    "mm.plot(ax=mean_ax)\n",
    "mean_ax.set_title(\"Mean over time\")\n"
   ]
  },
  {
   "cell_type": "markdown",
   "id": "44e34632",
   "metadata": {},
   "source": [
    "We can see our series do not follow a Gaussian distribution from the histogram and neither the standard deviation, thought the std does has the mean more centered which shows a small part of white noise that is not possible to split from the original series (this will happen most of the times, specially is real life datasets)).\n",
    "\n",
    "We also have a small correlation with close measurements in time but not present with distant measurements (this could also indicate low seasonality). The mean over time also shows something similar with a constant value and high peaks in the same moments for the 4 years (smaller in 2012)\n",
    "\n",
    "We could say our series does contain a small part of white noise but it is really small and hard to remove"
   ]
  },
  {
   "cell_type": "markdown",
   "id": "0ddddf12",
   "metadata": {
    "incorrectly_encoded_metadata": "toc-hr-collapsed=true"
   },
   "source": [
    "## Stationarity\n",
    "Stationarity is an important characteristic of time series. A time series is stationarity if it has constant mean and variance over time. Most models work only with stationary data as this makes it easier to model. Not all time series are stationary but we can transform them into stationary series in different ways.\n",
    "\n",
    "Often, stock prices are not a stationary process, since we might see a growing trend, or its volatility might increase over time (meaning that variance is changing).\n",
    "\n",
    "### Check for sationarity\n",
    "\n",
    "\n"
   ]
  },
  {
   "cell_type": "markdown",
   "id": "8897ab0e",
   "metadata": {},
   "source": [
    "### Autocorrelation and Partial autocorrelation plots"
   ]
  },
  {
   "cell_type": "markdown",
   "id": "4ff64fbc",
   "metadata": {},
   "source": [
    "Autocorelation plots show how correlated are values at time t with the next values in time t+1,t+2,..t+n. If the data would be non-stationary the autocorrelation values will be highly correlated with distant points in time showing possible seasonalities or trends.\n",
    "\n",
    "Stationary series autocorrelation values will quickly decrease over time t. This shows us that no information is carried over time and then the series should be constant over time.\n",
    "\n"
   ]
  },
  {
   "cell_type": "code",
   "execution_count": null,
   "id": "5eb229a7",
   "metadata": {},
   "outputs": [],
   "source": [
    "plot_acf(series, lags=30)\n",
    "plot_pacf(series, lags=30)\n",
    "plt.show()"
   ]
  },
  {
   "cell_type": "markdown",
   "id": "9ce8d28c",
   "metadata": {},
   "source": [
    "We saw that our time series values are not correlated with distant points in time, this is good and shows us our series should be stationary but for the shake of learning and confirming we will test with some other methods"
   ]
  },
  {
   "cell_type": "markdown",
   "id": "6a0e9b5c",
   "metadata": {},
   "source": [
    "### Rolling means and standard deviation of our series"
   ]
  },
  {
   "cell_type": "markdown",
   "id": "6cd5cab9",
   "metadata": {},
   "source": [
    "We were talking about how our mean and standard deviation should be constant over time in order to have a stationary time series, why not just plot this two properties?"
   ]
  },
  {
   "cell_type": "code",
   "execution_count": null,
   "id": "6cd7abf4",
   "metadata": {},
   "outputs": [],
   "source": [
    "# Determing rolling statistics\n",
    "rolmean = air_pollution.pollution_today.rolling(window=12).mean()\n",
    "rolstd = air_pollution.pollution_today.rolling(window=12).std()\n",
    "\n",
    "# Plot rolling statistics:\n",
    "orig = plt.plot(air_pollution.pollution_today, label='Original')\n",
    "mean = plt.plot(rolmean, color='red', label='Rolling Mean')\n",
    "std = plt.plot(rolstd, color='black', label='Rolling Std')\n",
    "plt.legend(loc='best')\n",
    "plt.title('Rolling Mean & Standard Deviation')\n",
    "plt.show(block=False)"
   ]
  },
  {
   "cell_type": "markdown",
   "id": "bfb578ae",
   "metadata": {},
   "source": [
    "We can see how our mean and standard deviation have a constant behaviour over the years, even if they change over the year this behaviour is then repeated next year. This proves us again a stationary series"
   ]
  },
  {
   "cell_type": "markdown",
   "id": "3f3c962e",
   "metadata": {},
   "source": [
    "### Augmented Dickey-Fuller test\n",
    "The Augmented Dickey-Fuller test is a type of statistical test called a unit root test. The intuition behind a unit root test is that it determines how strongly a time series is defined by a trend. There are a number of unit root tests and the Augmented Dickey-Fuller may be one of the more widely used. It uses an autoregressive model and optimizes an information criterion across multiple different lag values.\n",
    "\n",
    "The null hypothesis of the test is that the time series can be represented by a unit root, that it is not stationary (has some time-dependent structure). The alternate hypothesis (rejecting the null hypothesis) is that the time series is stationary.\n",
    "\n",
    "Null Hypothesis (H0): If failed to be rejected, it suggests the time series has a unit root, meaning it is non-stationary. It has some time dependent structure.\n",
    "Alternate Hypothesis (H1): The null hypothesis is rejected; it suggests the time series does not have a unit root, meaning it is stationary. It does not have time-dependent structure.\n",
    "We interpret this result using the p-value from the test. A p-value below a threshold (such as 5% or 1%) suggests we reject the null hypothesis (stationary), otherwise a p-value above the threshold suggests we fail to reject the null hypothesis (non-stationary).\n",
    "\n",
    "p-value > 0.05: Fail to reject the null hypothesis (H0), the data has a unit root and is non-stationary.\n",
    "p-value <= 0.05: Reject the null hypothesis (H0), the data does not have a unit root and is stationary.\n",
    "Below is an example of calculating the Augmented Dickey-Fuller test on the Daily Female Births dataset. The statsmodels library provides the adfuller() function that implements the test.\n"
   ]
  },
  {
   "cell_type": "code",
   "execution_count": null,
   "id": "db652564",
   "metadata": {},
   "outputs": [],
   "source": [
    "X = air_pollution.pollution_today.values\n",
    "result = adfuller(X)\n",
    "print('ADF Statistic: %f' % result[0])\n",
    "print('p-value: %f' % result[1])\n",
    "print('Critical Values:')\n",
    "for key, value in result[4].items():\n",
    "    print('\\t%s: %.3f' % (key, value))"
   ]
  },
  {
   "cell_type": "markdown",
   "id": "b56fb71a",
   "metadata": {},
   "source": [
    "Here we also provide a method to quickly perform all the previous methods into one single function call and a pretty graph :)"
   ]
  },
  {
   "cell_type": "code",
   "execution_count": null,
   "id": "4b67d479",
   "metadata": {},
   "outputs": [],
   "source": [
    "def tsplot(y, lags=None, figsize=(12, 7), syle='bmh'):\n",
    "    if not isinstance(y, pd.Series):\n",
    "        y = pd.Series(y)\n",
    "\n",
    "    with plt.style.context(style='bmh'):\n",
    "        fig = plt.figure(figsize=(12, 7))\n",
    "        layout = (3, 2)\n",
    "        ts_ax = plt.subplot2grid(layout, (0, 0), colspan=2)\n",
    "        acf_ax = plt.subplot2grid(layout, (1, 0))\n",
    "        pacf_ax = plt.subplot2grid(layout, (1, 1))\n",
    "        mean_std_ax = plt.subplot2grid(layout, (2, 0), colspan=2)\n",
    "        y.plot(ax=ts_ax)\n",
    "        p_value = sm.tsa.stattools.adfuller(y)[1]\n",
    "        hypothesis_result = \"We reject stationarity\" if p_value <= 0.05 else \"We can not reject stationarity\"\n",
    "        ts_ax.set_title(\n",
    "            'Time Series stationary analysis Plots\\n Dickey-Fuller: p={0:.5f} Result: {1}'.format(p_value, hypothesis_result))\n",
    "        smt.graphics.plot_acf(y, lags=lags, ax=acf_ax)\n",
    "        smt.graphics.plot_pacf(y, lags=lags, ax=pacf_ax)\n",
    "        plt.tight_layout()\n",
    "\n",
    "        rolmean = air_pollution.pollution_today.rolling(window=12).mean()\n",
    "        rolstd = air_pollution.pollution_today.rolling(window=12).std()\n",
    "\n",
    "        # Plot rolling statistics:\n",
    "        orig = plt.plot(air_pollution.pollution_today, label='Original')\n",
    "        mean = plt.plot(rolmean, color='red', label='Rolling Mean')\n",
    "        std = plt.plot(rolstd, color='black', label='Rolling Std')\n",
    "        plt.legend(loc='best')\n",
    "        plt.title('Rolling Mean & Standard Deviation')\n",
    "\n",
    "\n",
    "tsplot(air_pollution.pollution_today, lags=30)"
   ]
  },
  {
   "cell_type": "markdown",
   "id": "ca22f6e1",
   "metadata": {
    "incorrectly_encoded_metadata": "toc-hr-collapsed=true"
   },
   "source": [
    "## Making Time Series Stationary"
   ]
  },
  {
   "cell_type": "markdown",
   "id": "a88eb960",
   "metadata": {},
   "source": [
    "Okay we got lucky with this dataset and is already stationary, but what happens when this is not the case? We included a dummy dataset called `international_airline_passengers.csv` on the datasets folders which is not stationary and we will apply some methods in this section to transform it into a stationary series."
   ]
  },
  {
   "cell_type": "code",
   "execution_count": null,
   "id": "564e4f20",
   "metadata": {},
   "outputs": [],
   "source": [
    "passengers = pd.read_csv(\"datasets/international_airline_passengers.csv\")\n",
    "passengers.passengers.plot(label='Original')\n",
    "passengers.passengers.rolling(window=12).mean().plot(\n",
    "    color='red', label='Windowed mean')\n",
    "passengers.passengers.rolling(window=12).std().plot(\n",
    "    color='black', label='Std mean')\n",
    "plt.legend()\n",
    "plt.title('Original vs Windowed mean vs Windowed std')"
   ]
  },
  {
   "cell_type": "markdown",
   "id": "1a8d29d7",
   "metadata": {},
   "source": [
    "Lets run our stationary multitest function over this series"
   ]
  },
  {
   "cell_type": "code",
   "execution_count": null,
   "id": "8261bd66",
   "metadata": {},
   "outputs": [],
   "source": [
    "tsplot(passengers.passengers, lags=30)"
   ]
  },
  {
   "cell_type": "markdown",
   "id": "b2cc8038",
   "metadata": {},
   "source": [
    "With a p value of ~1 and high correlation values over time distant samples (showing a clear seasonality shape) we need to apply some methods to make the series stationary.\n",
    "\n",
    "Coming back to the stationary definition, what makes our current series non stationary?\n",
    "\n",
    "**Trend** - The mean for our series is not constant, it increases over time and\n",
    "\n",
    "**Seasonality** - The values of our series vary over time with an specific pattern that repeats over time, this is called seasonalities (spike of people flying on the 24th of December)\n",
    "\n",
    "We now present some methods to remove or smotth this trend and seasonality components"
   ]
  },
  {
   "cell_type": "markdown",
   "id": "0ef7a9f8",
   "metadata": {},
   "source": [
    "### Difference transform"
   ]
  },
  {
   "cell_type": "markdown",
   "id": "d4fd0efb",
   "metadata": {},
   "source": [
    "Applying a difference transform to a time series could help remove the series dependence on time.\n",
    "\n",
    "This transform is done by substracting the previous obesvation to the current one.\n",
    "\n",
    "`difference(t) = observation(t) - observation(t-1)`\n",
    "\n",
    "Taking the difference between consecutive observations would be a lag-1 difference, we can tweek this lag value to fit our series.\n",
    "\n",
    "We can also apply differencing transforms consecutively in the same series if the temporal effect hasnt been removed yet. This is called multiple order difference transform"
   ]
  },
  {
   "cell_type": "code",
   "execution_count": null,
   "id": "2510481a",
   "metadata": {},
   "outputs": [],
   "source": [
    "def difference(dataset, interval=1, order=1):\n",
    "    for u in range(order):\n",
    "        diff = list()\n",
    "        for i in range(interval, len(dataset)):\n",
    "            value = dataset[i] - dataset[i - interval]\n",
    "            diff.append(value)\n",
    "        dataset = diff\n",
    "    return diff"
   ]
  },
  {
   "cell_type": "code",
   "execution_count": null,
   "id": "d8c6e71a",
   "metadata": {},
   "outputs": [],
   "source": [
    "lag1series = pd.Series(difference(passengers.passengers, interval=1, order=1))\n",
    "lag3series = pd.Series(difference(passengers.passengers, interval=3, order=1))\n",
    "lag1order2series = pd.Series(difference(\n",
    "    passengers.passengers, interval=1, order=2))\n",
    "\n",
    "fig = plt.figure(figsize=(14, 11))\n",
    "layout = (3, 2)\n",
    "original = plt.subplot2grid(layout, (0, 0), colspan=2)\n",
    "lag1 = plt.subplot2grid(layout, (1, 0))\n",
    "lag3 = plt.subplot2grid(layout, (1, 1))\n",
    "lag1order2 = plt.subplot2grid(layout, (2, 0), colspan=2)\n",
    "\n",
    "original.set_title('Original series')\n",
    "original.plot(passengers.passengers, label='Original')\n",
    "original.plot(passengers.passengers.rolling(\n",
    "    7).mean(), color='red', label='Rolling Mean')\n",
    "original.plot(passengers.passengers.rolling(7).std(),\n",
    "              color='black', label='Rolling Std')\n",
    "original.legend(loc='best')\n",
    "\n",
    "lag1.set_title('Difference series with lag 1 order 1')\n",
    "lag1.plot(lag1series, label=\"Lag1\")\n",
    "lag1.plot(lag1series.rolling(7).mean(), color='red', label='Rolling Mean')\n",
    "lag1.plot(lag1series.rolling(7).std(), color='black', label='Rolling Std')\n",
    "lag1.legend(loc='best')\n",
    "\n",
    "lag3.set_title('Difference series with lag 3 order 1')\n",
    "lag3.plot(lag3series, label=\"Lag3\")\n",
    "lag3.plot(lag3series.rolling(7).mean(), color='red', label='Rolling Mean')\n",
    "lag3.plot(lag3series.rolling(7).std(), color='black', label='Rolling Std')\n",
    "lag3.legend(loc='best')\n",
    "\n",
    "lag1order2.set_title('Difference series with lag 1 order 2')\n",
    "lag1order2.plot(lag1order2series, label=\"Lag1order2\")\n",
    "lag1order2.plot(lag1order2series.rolling(7).mean(),\n",
    "                color='red', label='Rolling Mean')\n",
    "lag1order2.plot(lag1order2series.rolling(7).std(),\n",
    "                color='black', label='Rolling Std')\n",
    "lag1order2.legend(loc='best')"
   ]
  },
  {
   "cell_type": "markdown",
   "id": "60540fc1",
   "metadata": {},
   "source": [
    "We can see how 1 order differencing doesnt really remove stationary but once we go with a order 2 difference it looks closer to a stationary series"
   ]
  },
  {
   "cell_type": "markdown",
   "id": "94a10d91",
   "metadata": {},
   "source": [
    "### Log scale transformation"
   ]
  },
  {
   "cell_type": "markdown",
   "id": "89461c56",
   "metadata": {},
   "source": [
    "Applying a log scale transform to a time series could also  help remove the series dependence on time.\n",
    "\n",
    "This transform is done by substracting the previous obesvation to the current one.\n",
    "\n",
    "`LogScaleTransform(t)= Log(t)`"
   ]
  },
  {
   "cell_type": "code",
   "execution_count": null,
   "id": "fa614e3f",
   "metadata": {},
   "outputs": [],
   "source": [
    "ts_log = np.log(passengers.passengers)\n",
    "ts_log.plot(label='Log scale result')\n",
    "ts_log.rolling(window=12).mean().plot(color='red', label='Windowed mean')\n",
    "ts_log.rolling(window=12).std().plot(color='black', label='Std mean')\n",
    "plt.legend()\n",
    "plt.title('Log scale transformation into original series')"
   ]
  },
  {
   "cell_type": "code",
   "execution_count": null,
   "id": "82167e4a",
   "metadata": {},
   "outputs": [],
   "source": [
    "# COmment results"
   ]
  },
  {
   "cell_type": "markdown",
   "id": "7d62f3aa",
   "metadata": {},
   "source": [
    "### Smoothing"
   ]
  },
  {
   "cell_type": "markdown",
   "id": "22cbbb43",
   "metadata": {},
   "source": [
    "We have seen the moving mean as a measure to check stationarity, we can also apply windows to our series to remove seasonality.\n",
    "\n",
    "With smotthing we will take rolling averages over periods of time. Is a bit tricky to choose the best windows. MORE ON THIS IN NEXT SECTION WITH AUTO WINDOWS"
   ]
  },
  {
   "cell_type": "code",
   "execution_count": null,
   "id": "2f2caa60",
   "metadata": {
    "lines_to_next_cell": 2
   },
   "outputs": [],
   "source": [
    "avg = pd.Series(ts_log).rolling(12).mean()\n",
    "plt.plot(avg, label='Log scale smoothed with windows 12')\n",
    "avg.rolling(window=12).mean().plot(color='red', label='Windowed mean')\n",
    "avg.rolling(window=12).std().plot(color='black', label='Std mean')\n",
    "plt.legend()"
   ]
  },
  {
   "cell_type": "markdown",
   "id": "204fe7b8",
   "metadata": {},
   "source": [
    "We can combine it with our previous log scale and apply differencing"
   ]
  },
  {
   "cell_type": "code",
   "execution_count": null,
   "id": "a4595201",
   "metadata": {},
   "outputs": [],
   "source": [
    "ts_log_moving_avg_diff = ts_log - avg\n",
    "\n",
    "ts_log_moving_avg_diff.plot(label='Original')\n",
    "ts_log_moving_avg_diff.rolling(12).mean().plot(\n",
    "    color='red', label=\"Rolling mean\")\n",
    "ts_log_moving_avg_diff.rolling(12).std().plot(\n",
    "    color='black', label=\"Rolling mean\")\n",
    "plt.legend(loc='best')"
   ]
  },
  {
   "cell_type": "code",
   "execution_count": null,
   "id": "9a628a17",
   "metadata": {},
   "outputs": [],
   "source": []
  },
  {
   "cell_type": "code",
   "execution_count": null,
   "id": "2c90f352",
   "metadata": {},
   "outputs": [],
   "source": []
  }
 ],
 "metadata": {
  "jupytext": {
   "encoding": "# -*- coding: utf-8 -*-"
  },
  "kernelspec": {
   "display_name": "Python 3.9.7 ('py3')",
   "language": "python",
   "name": "python3"
  },
  "language_info": {
   "codemirror_mode": {
    "name": "ipython",
    "version": 3
   },
   "file_extension": ".py",
   "mimetype": "text/x-python",
   "name": "python",
   "nbconvert_exporter": "python",
   "pygments_lexer": "ipython3",
   "version": "3.9.7"
  },
  "vscode": {
   "interpreter": {
    "hash": "7a6b41cc1ffbe7f6292ade58ee9ab0c89bd7fa770a77f101cc95d5710b4e5fa9"
   }
  }
 },
 "nbformat": 4,
 "nbformat_minor": 5
}
