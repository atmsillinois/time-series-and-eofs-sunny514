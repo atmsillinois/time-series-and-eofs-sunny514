{
  "cells": [
    {
      "cell_type": "markdown",
      "metadata": {
        "id": "_X9auZWcrNQE"
      },
      "source": [
        "# ATMS 523\n",
        "## Module 4 Notebook 1\n",
        "## Wrangling time series"
      ]
    },
    {
      "cell_type": "markdown",
      "metadata": {
        "id": "OMSN3NBOobQ5"
      },
      "source": [
        "### Combining datasets with pandas\n",
        "\n",
        "Here we will load a variety of climate datasets, and use pandas to unify the datasets for further analysis."
      ]
    },
    {
      "cell_type": "code",
      "execution_count": null,
      "metadata": {
        "colab": {
          "base_uri": "https://localhost:8080/"
        },
        "id": "yq0wed6AyQ3N",
        "outputId": "ec980975-a9e2-4afe-aa89-39385f7cdbdf"
      },
      "outputs": [],
      "source": [
        "import pandas as pd\n",
        "\n",
        "enso = pd.read_csv('https://www.esrl.noaa.gov/psd/data/correlation/censo.data',delim_whitespace=True,header=None,skiprows=1,skipfooter=2, engine='python')\n",
        "pdo = pd.read_csv('https://www.esrl.noaa.gov/psd/data/correlation/pdo.data',delim_whitespace=True,header=None,skiprows=1,skipfooter=14, engine='python')\n",
        "nao = pd.read_csv('https://www.esrl.noaa.gov/psd/data/correlation/nao.data',delim_whitespace=True,header=None,skiprows=1,skipfooter=3, engine='python')\n",
        "ao = pd.read_csv('https://www.esrl.noaa.gov/psd/data/correlation/ao.data',delim_whitespace=True,header=None,skiprows=1,skipfooter=3, engine='python')"
      ]
    },
    {
      "cell_type": "markdown",
      "metadata": {
        "id": "rdd0rC4K1hMW"
      },
      "source": [
        "Take a look at the dataframes, note how they are formatted and if there are any issues with the values (missing data, etc.)."
      ]
    },
    {
      "cell_type": "code",
      "execution_count": null,
      "metadata": {
        "colab": {
          "base_uri": "https://localhost:8080/",
          "height": 447
        },
        "id": "qlFHyzxM08aZ",
        "outputId": "a834e2d7-8227-4a2b-87b4-fe2722b4f137"
      },
      "outputs": [],
      "source": [
        "enso\n"
      ]
    },
    {
      "cell_type": "markdown",
      "metadata": {
        "id": "VLxGBOjr10j8"
      },
      "source": [
        "Now that we have read in the data, it's time to get them into a format that we can use with pandas.  Time series should be a single column, with a date column with a value of each index in each row.\n",
        "\n",
        "We'll approach this by creating a new data frame and reformatting the 12 x nyears array to a 1 x nobservations array corresponding with each date.\n",
        "\n",
        "Let's start with ENSO."
      ]
    },
    {
      "cell_type": "code",
      "execution_count": null,
      "metadata": {
        "id": "EDEbqaKe24Eg"
      },
      "outputs": [],
      "source": [
        "enso_new=pd.DataFrame()\n"
      ]
    },
    {
      "cell_type": "code",
      "execution_count": null,
      "metadata": {
        "colab": {
          "base_uri": "https://localhost:8080/",
          "height": 52
        },
        "id": "48CfeN2x9l2K",
        "outputId": "7bce10d5-65dd-4ac5-fc0f-b75e032f04b4"
      },
      "outputs": [],
      "source": [
        "enso_new"
      ]
    },
    {
      "cell_type": "markdown",
      "metadata": {
        "id": "-6qzie2F2510"
      },
      "source": [
        "Let's create an ENSO 'Date' column that has a Datetime Index.  The pandas DatetimeIndex can be used to generate dates with a given frequency."
      ]
    },
    {
      "cell_type": "code",
      "execution_count": null,
      "metadata": {
        "colab": {
          "base_uri": "https://localhost:8080/"
        },
        "id": "zkrQcKGj3H5q",
        "outputId": "39b13384-96f6-4a4b-ab54-71583a9ebbc7"
      },
      "outputs": [],
      "source": [
        "enso_new['Date']=pd.date_range(start=pd.datetime(1948,1,1),end=pd.datetime(2022,12,1),freq=\"MS\")\n",
        "\n",
        "enso_new = enso_new.set_index('Date')"
      ]
    },
    {
      "cell_type": "code",
      "execution_count": null,
      "metadata": {
        "colab": {
          "base_uri": "https://localhost:8080/",
          "height": 461
        },
        "id": "euq43rZkg7XP",
        "outputId": "2dc44eed-5d9c-4d6c-c4ce-7b139956c3ac"
      },
      "outputs": [],
      "source": [
        "enso_new"
      ]
    },
    {
      "cell_type": "markdown",
      "metadata": {
        "id": "bu45isJ83QLA"
      },
      "source": [
        "Now, let's stuff the data into our array.  We can use the stack() command to take the 2D array and create a 1D column."
      ]
    },
    {
      "cell_type": "code",
      "execution_count": null,
      "metadata": {
        "colab": {
          "base_uri": "https://localhost:8080/"
        },
        "id": "7_uQVU_Vrew1",
        "outputId": "99024edc-d0b7-4077-d03f-9d90cb65642f"
      },
      "outputs": [],
      "source": [
        "len(enso.loc[:,1:].stack().values)"
      ]
    },
    {
      "cell_type": "code",
      "execution_count": null,
      "metadata": {
        "id": "IVYoq7E23LFf"
      },
      "outputs": [],
      "source": [
        "enso_new['ENSO']=enso.loc[:,1:].stack().values"
      ]
    },
    {
      "cell_type": "markdown",
      "metadata": {
        "id": "_uLApMIi3Ymd"
      },
      "source": [
        "How does it look?"
      ]
    },
    {
      "cell_type": "code",
      "execution_count": null,
      "metadata": {
        "colab": {
          "base_uri": "https://localhost:8080/",
          "height": 447
        },
        "id": "2ATZDtym3aeX",
        "outputId": "16d4c481-eecc-4917-96af-0c75cd855c75"
      },
      "outputs": [],
      "source": [
        "enso_new"
      ]
    },
    {
      "cell_type": "code",
      "execution_count": null,
      "metadata": {
        "colab": {
          "base_uri": "https://localhost:8080/",
          "height": 317
        },
        "id": "nK9YJaHu3fRo",
        "outputId": "949cb584-101c-4e59-e8a6-4a2dba157e36"
      },
      "outputs": [],
      "source": [
        "enso_new.plot()"
      ]
    },
    {
      "cell_type": "markdown",
      "metadata": {
        "id": "RqWXOVh64slQ"
      },
      "source": [
        "## In-class exercise, do this for all of the 4 climate indicies.\n",
        "\n",
        "Be sure to check the date ranges of your indicies by carefully inspecting the dataframes!"
      ]
    },
    {
      "cell_type": "code",
      "execution_count": null,
      "metadata": {
        "colab": {
          "base_uri": "https://localhost:8080/"
        },
        "id": "zWxDunG_4pBi",
        "outputId": "ba6a329e-3f07-469f-9022-89d79455fad2"
      },
      "outputs": [],
      "source": [
        "nao_new=pd.DataFrame()\n",
        "pdo_new=pd.DataFrame()\n",
        "ao_new=pd.DataFrame()\n",
        "\n",
        "nao_new['Date'] = pd.date_range(start=pd.datetime(1948,1,1),end=pd.datetime(2022,12,1),freq=\"MS\")\n",
        "pdo_new['Date'] = pd.date_range(start=pd.datetime(1948,1,1),end=pd.datetime(2022,12,1),freq=\"MS\")\n",
        "ao_new['Date'] = pd.date_range(start=pd.datetime(1950,1,1),end=pd.datetime(2022,12,1),freq=\"MS\")\n",
        "\n",
        "nao_new = nao_new.set_index('Date')\n",
        "pdo_new = pdo_new.set_index('Date')\n",
        "ao_new = ao_new.set_index('Date')\n",
        "\n",
        "nao_new['NAO']=nao.loc[:,1:].stack().values\n",
        "pdo_new['PDO']=pdo.loc[:,1:].stack().values\n",
        "ao_new['AO']=ao.loc[:,1:].stack().values"
      ]
    },
    {
      "cell_type": "code",
      "execution_count": null,
      "metadata": {},
      "outputs": [],
      "source": [
        "pdo_new"
      ]
    },
    {
      "cell_type": "code",
      "execution_count": null,
      "metadata": {
        "colab": {
          "base_uri": "https://localhost:8080/",
          "height": 351
        },
        "id": "XAQ_cpZrjVvx",
        "outputId": "7f1851a0-0b41-4461-ad6f-33b593ff5b4f"
      },
      "outputs": [],
      "source": [
        "%pylab inline\n",
        "nao_new['NAO'].plot()\n",
        "plt.ylim([-3,3])\n",
        "plt.xlim(['11-01-2018','01-01-2020'])"
      ]
    },
    {
      "cell_type": "markdown",
      "metadata": {
        "id": "Ay3jfSBt5BtK"
      },
      "source": [
        "# Merging dataframes\n",
        "\n",
        "Now that we have these indicies, we can join them together into one dataset.  We can use the pd.merge() command to do this for each of our dataframes one by one.  We need to tell pandas how to do the merge, and we do that by specifying the left_index and right_index, where left and right are the data frames given first and second in the pd.merge command."
      ]
    },
    {
      "cell_type": "code",
      "execution_count": null,
      "metadata": {
        "id": "b95J8eta49gq"
      },
      "outputs": [],
      "source": [
        "newdf_all = pd.merge(enso_new,pdo_new, left_index=True, right_index=True)"
      ]
    },
    {
      "cell_type": "code",
      "execution_count": null,
      "metadata": {
        "colab": {
          "base_uri": "https://localhost:8080/",
          "height": 479
        },
        "id": "6nyjcGxMz0aR",
        "outputId": "6bc724e3-488f-4340-d4fc-01d03cec9e1e"
      },
      "outputs": [],
      "source": [
        "newdf_all"
      ]
    },
    {
      "cell_type": "code",
      "execution_count": null,
      "metadata": {
        "colab": {
          "base_uri": "https://localhost:8080/",
          "height": 317
        },
        "id": "e1OcraIGi6ZZ",
        "outputId": "363f14f3-a4f3-4ffb-9e64-ab3db0b0d014"
      },
      "outputs": [],
      "source": [
        "import numpy as np\n",
        "newdf_all['PDO'][newdf_all['PDO'] <= -9.9] = np.nan\n",
        "newdf_all.plot()"
      ]
    },
    {
      "cell_type": "markdown",
      "metadata": {
        "id": "ObbExleB6taE"
      },
      "source": [
        "Rinse and repeat until all 4 columns are included in your new dataframe."
      ]
    },
    {
      "cell_type": "code",
      "execution_count": null,
      "metadata": {},
      "outputs": [],
      "source": [
        "newdf_all['ENSO'][newdf_all['ENSO'] <= -9.9] = np.nan\n",
        "newdf_all.plot()"
      ]
    },
    {
      "cell_type": "code",
      "execution_count": null,
      "metadata": {
        "id": "KjkGutByz5gp"
      },
      "outputs": [],
      "source": [
        "newdf_all = pd.merge(newdf_all,nao_new, left_index=True, right_index=True)\n",
        "newdf_all['NAO'][newdf_all['NAO'] <= -99.9] = np.nan"
      ]
    },
    {
      "cell_type": "code",
      "execution_count": null,
      "metadata": {
        "colab": {
          "base_uri": "https://localhost:8080/",
          "height": 317
        },
        "id": "qOYOKaCd60el",
        "outputId": "d183c93d-accb-4a88-c95e-2a6fe30a88a2"
      },
      "outputs": [],
      "source": [
        "newdf_all = pd.merge(newdf_all,ao_new, left_index=True, right_index=True)\n",
        "newdf_all['AO'][newdf_all['AO'] <= -99.9] = np.nan\n",
        "\n",
        "newdf_all.plot()"
      ]
    },
    {
      "cell_type": "code",
      "execution_count": null,
      "metadata": {
        "colab": {
          "base_uri": "https://localhost:8080/",
          "height": 479
        },
        "id": "A7ZdA_pArpyn",
        "outputId": "8e393c68-41a3-4fb9-c973-b8ffce5f93ab"
      },
      "outputs": [],
      "source": [
        "newdf_all"
      ]
    },
    {
      "cell_type": "markdown",
      "metadata": {},
      "source": [
        "Let's plot them against each other\n"
      ]
    },
    {
      "cell_type": "code",
      "execution_count": null,
      "metadata": {
        "colab": {
          "base_uri": "https://localhost:8080/",
          "height": 303
        },
        "id": "dZ_-36NCsnsP",
        "outputId": "e4e0b02c-803a-4c84-fc61-1e41d0ac6786"
      },
      "outputs": [],
      "source": [
        "\n",
        "plt.plot(newdf_all['ENSO'].values,newdf_all['PDO'].values,'.r')"
      ]
    },
    {
      "cell_type": "markdown",
      "metadata": {},
      "source": [
        "Or do it all together in one swoop."
      ]
    },
    {
      "cell_type": "code",
      "execution_count": null,
      "metadata": {},
      "outputs": [],
      "source": [
        "# Seaborn visualization library\n",
        "import seaborn as sns\n",
        "# Create the default pairplot\n",
        "sns.pairplot(newdf_all)\n"
      ]
    },
    {
      "cell_type": "markdown",
      "metadata": {
        "id": "OJQXcfM7sVua"
      },
      "source": [
        "Now let's bring in another dataset, the NASA GISS observed temperature record.  How does it match up with the climate indicies above?"
      ]
    },
    {
      "cell_type": "code",
      "execution_count": null,
      "metadata": {
        "id": "iYKHJ69prt75"
      },
      "outputs": [],
      "source": [
        "!wget https://data.giss.nasa.gov/pub/gistemp/gistemp250_GHCNv4.nc.gz"
      ]
    },
    {
      "cell_type": "code",
      "execution_count": null,
      "metadata": {
        "id": "VoGv3zJ0siOe"
      },
      "outputs": [],
      "source": [
        "%matplotlib inline\n",
        "import xarray as xr\n",
        "import pandas as pd\n",
        "import cartopy.crs as ccrs"
      ]
    },
    {
      "cell_type": "code",
      "execution_count": null,
      "metadata": {
        "id": "e6FisQy5smRN"
      },
      "outputs": [],
      "source": [
        "data = xr.open_dataset('gistemp250_GHCNv4.nc.gz')\n",
        "data\n",
        "   "
      ]
    },
    {
      "cell_type": "code",
      "execution_count": null,
      "metadata": {
        "id": "uSmOvYwztCWk"
      },
      "outputs": [],
      "source": [
        "ax = plt.axes(projection=ccrs.Orthographic(-80, 35))\n",
        "data['tempanomaly'].polyfit(dim='time',deg=1).isel(degree=1)['polyfit_coefficients'].plot(ax=ax, transform=ccrs.PlateCarree(), vmin=-0.5, vmax=0.5, cmap='RdBu_r')\n",
        "ax.set_global(); ax.coastlines(); ax.set_title('GISTEMPv4 temperature trend (deg/year)')"
      ]
    },
    {
      "cell_type": "markdown",
      "metadata": {
        "id": "Zh5gST5itR7R"
      },
      "source": [
        "Here we will introduce the sel command to find time and space subsets of our dataset.  Let's pull out the observed temperature trends at the point closest to Champaign-Urbana and examine the relationships with climate indicies."
      ]
    },
    {
      "cell_type": "code",
      "execution_count": null,
      "metadata": {
        "id": "ykEoxQ1HtN_8"
      },
      "outputs": [],
      "source": [
        "temp = pd.DataFrame()\n",
        "\n",
        "temp.index = data.time-pd.Timedelta(14, unit=\"D\")\n",
        "temp['obsT']=data['tempanomaly'].sel(lat=40.,lon=-88., method='nearest')\n",
        "\n",
        "newdf_all = pd.merge(newdf_all,temp,left_index=True, right_index=True)\n"
      ]
    },
    {
      "cell_type": "code",
      "execution_count": null,
      "metadata": {},
      "outputs": [],
      "source": [
        "temp"
      ]
    },
    {
      "cell_type": "code",
      "execution_count": null,
      "metadata": {},
      "outputs": [],
      "source": [
        "newdf_all"
      ]
    },
    {
      "cell_type": "markdown",
      "metadata": {
        "id": "hc4e_VdrtY91"
      },
      "source": [
        "Let's plot!"
      ]
    },
    {
      "cell_type": "code",
      "execution_count": null,
      "metadata": {
        "id": "VXtUB7xqvAOf"
      },
      "outputs": [],
      "source": [
        "%pylab inline\n",
        "import matplotlib as mpl\n",
        "\n",
        "cmap = cm.get_cmap('PiYG', 12)    # 11 discrete colors\n",
        "norm = mpl.colors.Normalize(vmin=1, vmax=13)\n",
        "\n",
        "fig, ((ax1, ax2), (ax3, ax4)) = plt.subplots(nrows=2, ncols=2, figsize=(11,11))\n",
        "\n",
        "ax1.scatter(newdf_all['ENSO'].values,newdf_all['obsT'].values,c=newdf_all.index.month,cmap=cmap,norm=norm)\n",
        "ax1.set_title('ENSO')\n",
        "ax1.set_xlabel('ENSO index')\n",
        "ax1.set_ylabel('Monthly GISTEMP anomaly')\n",
        "ax1.set_ylim([-10,10])\n",
        "ax1.set_xlim([-5,5])\n",
        "\n",
        "ax2.scatter(newdf_all['NAO'].values,newdf_all['obsT'].values,c=newdf_all.index.month,cmap=cmap,norm=norm)\n",
        "ax2.set_title('NAO')\n",
        "ax2.set_xlabel('NAO index')\n",
        "ax2.set_ylabel('Monthly GISTEMP anomaly')\n",
        "ax2.set_ylim([-10,10])\n",
        "ax2.set_xlim([-5,5])\n",
        "\n",
        "ax3.scatter(newdf_all['AO'].values,newdf_all['obsT'].values,c=newdf_all.index.month,cmap=cmap,norm=norm)\n",
        "ax3.set_title('AO')\n",
        "ax3.set_xlabel('AO index')\n",
        "ax3.set_ylabel('Monthly GISTEMP anomaly')\n",
        "ax3.set_ylim([-10,10])\n",
        "ax3.set_xlim([-5,5])\n",
        "\n",
        "\n",
        "im=ax4.scatter(newdf_all['PDO'].values,newdf_all['obsT'].values,c=newdf_all.index.month,cmap=cmap,norm=norm)\n",
        "ax4.set_title('PDO')\n",
        "ax4.set_xlabel('PDO index')\n",
        "ax4.set_ylabel('Monthly GISTEMP anomaly')\n",
        "ax4.set_ylim([-10,10])\n",
        "ax4.set_xlim([-5,5])\n",
        "\n",
        "#fig.subplots_adjust(right=0.8)\n",
        "cbar_ax = fig.add_axes([1.05, 0.15, 0.02, 0.7])\n",
        "cbar=fig.colorbar(im, cax=cbar_ax, ticks=1+np.arange(13), norm=norm)\n",
        "cbar.ax.set_yticklabels(['J','F','M','A','M','J','J','A','S','O','N','D',' '])  # vertically oriented colorbar\n",
        "\n",
        "plt.tight_layout()"
      ]
    },
    {
      "cell_type": "code",
      "execution_count": null,
      "metadata": {},
      "outputs": [],
      "source": []
    }
  ],
  "metadata": {
    "colab": {
      "collapsed_sections": [],
      "provenance": []
    },
    "kernelspec": {
      "display_name": "Python 3.9.7 ('py3')",
      "language": "python",
      "name": "python3"
    },
    "language_info": {
      "codemirror_mode": {
        "name": "ipython",
        "version": 3
      },
      "file_extension": ".py",
      "mimetype": "text/x-python",
      "name": "python",
      "nbconvert_exporter": "python",
      "pygments_lexer": "ipython3",
      "version": "3.9.7"
    },
    "vscode": {
      "interpreter": {
        "hash": "7a6b41cc1ffbe7f6292ade58ee9ab0c89bd7fa770a77f101cc95d5710b4e5fa9"
      }
    }
  },
  "nbformat": 4,
  "nbformat_minor": 0
}
