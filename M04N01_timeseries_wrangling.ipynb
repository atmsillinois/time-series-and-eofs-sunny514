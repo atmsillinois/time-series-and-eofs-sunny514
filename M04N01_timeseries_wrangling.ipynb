{
  "cells": [
    {
      "cell_type": "markdown",
      "metadata": {
        "id": "_X9auZWcrNQE"
      },
      "source": [
        "# ATMS 523\n",
        "## Module 4 Notebook 1\n",
        "## Wrangling time series"
      ]
    },
    {
      "cell_type": "markdown",
      "metadata": {
        "id": "OMSN3NBOobQ5"
      },
      "source": [
        "### Combining datasets with pandas\n",
        "\n",
        "Here we will load a variety of climate datasets, and use pandas to unify the datasets for further analysis."
      ]
    },
    {
      "cell_type": "code",
      "execution_count": 1,
      "metadata": {
        "colab": {
          "base_uri": "https://localhost:8080/"
        },
        "id": "yq0wed6AyQ3N",
        "outputId": "ec980975-a9e2-4afe-aa89-39385f7cdbdf"
      },
      "outputs": [
        {
          "name": "stderr",
          "output_type": "stream",
          "text": [
            "/var/folders/_c/r1mtqtcs51q5tzpn52hv2f4c0000gn/T/ipykernel_68311/1764835073.py:3: FutureWarning: The 'delim_whitespace' keyword in pd.read_csv is deprecated and will be removed in a future version. Use ``sep='\\s+'`` instead\n",
            "  enso = pd.read_csv('https://www.esrl.noaa.gov/psd/data/correlation/censo.data',delim_whitespace=True,header=None,skiprows=1,skipfooter=2, engine='python')\n",
            "/var/folders/_c/r1mtqtcs51q5tzpn52hv2f4c0000gn/T/ipykernel_68311/1764835073.py:4: FutureWarning: The 'delim_whitespace' keyword in pd.read_csv is deprecated and will be removed in a future version. Use ``sep='\\s+'`` instead\n",
            "  pdo = pd.read_csv('https://www.esrl.noaa.gov/psd/data/correlation/pdo.data',delim_whitespace=True,header=None,skiprows=1,skipfooter=14, engine='python')\n",
            "/var/folders/_c/r1mtqtcs51q5tzpn52hv2f4c0000gn/T/ipykernel_68311/1764835073.py:5: FutureWarning: The 'delim_whitespace' keyword in pd.read_csv is deprecated and will be removed in a future version. Use ``sep='\\s+'`` instead\n",
            "  nao = pd.read_csv('https://www.esrl.noaa.gov/psd/data/correlation/nao.data',delim_whitespace=True,header=None,skiprows=1,skipfooter=3, engine='python')\n",
            "/var/folders/_c/r1mtqtcs51q5tzpn52hv2f4c0000gn/T/ipykernel_68311/1764835073.py:6: FutureWarning: The 'delim_whitespace' keyword in pd.read_csv is deprecated and will be removed in a future version. Use ``sep='\\s+'`` instead\n",
            "  ao = pd.read_csv('https://www.esrl.noaa.gov/psd/data/correlation/ao.data',delim_whitespace=True,header=None,skiprows=1,skipfooter=3, engine='python')\n"
          ]
        }
      ],
      "source": [
        "import pandas as pd\n",
        "\n",
        "enso = pd.read_csv('https://www.esrl.noaa.gov/psd/data/correlation/censo.data',delim_whitespace=True,header=None,skiprows=1,skipfooter=2, engine='python')\n",
        "pdo = pd.read_csv('https://www.esrl.noaa.gov/psd/data/correlation/pdo.data',delim_whitespace=True,header=None,skiprows=1,skipfooter=14, engine='python')\n",
        "nao = pd.read_csv('https://www.esrl.noaa.gov/psd/data/correlation/nao.data',delim_whitespace=True,header=None,skiprows=1,skipfooter=3, engine='python')\n",
        "ao = pd.read_csv('https://www.esrl.noaa.gov/psd/data/correlation/ao.data',delim_whitespace=True,header=None,skiprows=1,skipfooter=3, engine='python')"
      ]
    },
    {
      "cell_type": "markdown",
      "metadata": {
        "id": "rdd0rC4K1hMW"
      },
      "source": [
        "Take a look at the dataframes, note how they are formatted and if there are any issues with the values (missing data, etc.)."
      ]
    },
    {
      "cell_type": "code",
      "execution_count": 2,
      "metadata": {
        "colab": {
          "base_uri": "https://localhost:8080/",
          "height": 447
        },
        "id": "qlFHyzxM08aZ",
        "outputId": "a834e2d7-8227-4a2b-87b4-fe2722b4f137"
      },
      "outputs": [
        {
          "data": {
            "text/html": [
              "<div>\n",
              "<style scoped>\n",
              "    .dataframe tbody tr th:only-of-type {\n",
              "        vertical-align: middle;\n",
              "    }\n",
              "\n",
              "    .dataframe tbody tr th {\n",
              "        vertical-align: top;\n",
              "    }\n",
              "\n",
              "    .dataframe thead th {\n",
              "        text-align: right;\n",
              "    }\n",
              "</style>\n",
              "<table border=\"1\" class=\"dataframe\">\n",
              "  <thead>\n",
              "    <tr style=\"text-align: right;\">\n",
              "      <th></th>\n",
              "      <th>0</th>\n",
              "      <th>1</th>\n",
              "      <th>2</th>\n",
              "      <th>3</th>\n",
              "      <th>4</th>\n",
              "      <th>5</th>\n",
              "      <th>6</th>\n",
              "      <th>7</th>\n",
              "      <th>8</th>\n",
              "      <th>9</th>\n",
              "      <th>10</th>\n",
              "      <th>11</th>\n",
              "      <th>12</th>\n",
              "    </tr>\n",
              "  </thead>\n",
              "  <tbody>\n",
              "    <tr>\n",
              "      <th>0</th>\n",
              "      <td>1948</td>\n",
              "      <td>0.26</td>\n",
              "      <td>0.43</td>\n",
              "      <td>0.72</td>\n",
              "      <td>0.21</td>\n",
              "      <td>0.24</td>\n",
              "      <td>0.41</td>\n",
              "      <td>0.08</td>\n",
              "      <td>0.26</td>\n",
              "      <td>0.45</td>\n",
              "      <td>-0.64</td>\n",
              "      <td>-0.21</td>\n",
              "      <td>0.58</td>\n",
              "    </tr>\n",
              "    <tr>\n",
              "      <th>1</th>\n",
              "      <td>1949</td>\n",
              "      <td>0.18</td>\n",
              "      <td>0.13</td>\n",
              "      <td>-0.55</td>\n",
              "      <td>0.15</td>\n",
              "      <td>0.43</td>\n",
              "      <td>0.00</td>\n",
              "      <td>-0.06</td>\n",
              "      <td>0.08</td>\n",
              "      <td>-0.42</td>\n",
              "      <td>-0.59</td>\n",
              "      <td>-0.29</td>\n",
              "      <td>-0.91</td>\n",
              "    </tr>\n",
              "    <tr>\n",
              "      <th>2</th>\n",
              "      <td>1950</td>\n",
              "      <td>-0.74</td>\n",
              "      <td>-1.70</td>\n",
              "      <td>-1.43</td>\n",
              "      <td>-1.29</td>\n",
              "      <td>-1.22</td>\n",
              "      <td>-1.69</td>\n",
              "      <td>-1.69</td>\n",
              "      <td>-0.96</td>\n",
              "      <td>-0.95</td>\n",
              "      <td>-1.27</td>\n",
              "      <td>-1.12</td>\n",
              "      <td>-1.61</td>\n",
              "    </tr>\n",
              "    <tr>\n",
              "      <th>3</th>\n",
              "      <td>1951</td>\n",
              "      <td>-1.13</td>\n",
              "      <td>-0.69</td>\n",
              "      <td>-0.24</td>\n",
              "      <td>0.33</td>\n",
              "      <td>0.71</td>\n",
              "      <td>0.19</td>\n",
              "      <td>1.32</td>\n",
              "      <td>1.01</td>\n",
              "      <td>1.10</td>\n",
              "      <td>1.15</td>\n",
              "      <td>0.92</td>\n",
              "      <td>0.83</td>\n",
              "    </tr>\n",
              "    <tr>\n",
              "      <th>4</th>\n",
              "      <td>1952</td>\n",
              "      <td>0.64</td>\n",
              "      <td>0.56</td>\n",
              "      <td>0.07</td>\n",
              "      <td>0.71</td>\n",
              "      <td>-0.50</td>\n",
              "      <td>-0.74</td>\n",
              "      <td>-0.54</td>\n",
              "      <td>-0.12</td>\n",
              "      <td>-0.03</td>\n",
              "      <td>-0.06</td>\n",
              "      <td>-0.02</td>\n",
              "      <td>0.41</td>\n",
              "    </tr>\n",
              "    <tr>\n",
              "      <th>...</th>\n",
              "      <td>...</td>\n",
              "      <td>...</td>\n",
              "      <td>...</td>\n",
              "      <td>...</td>\n",
              "      <td>...</td>\n",
              "      <td>...</td>\n",
              "      <td>...</td>\n",
              "      <td>...</td>\n",
              "      <td>...</td>\n",
              "      <td>...</td>\n",
              "      <td>...</td>\n",
              "      <td>...</td>\n",
              "      <td>...</td>\n",
              "    </tr>\n",
              "    <tr>\n",
              "      <th>71</th>\n",
              "      <td>2019</td>\n",
              "      <td>0.43</td>\n",
              "      <td>1.58</td>\n",
              "      <td>0.90</td>\n",
              "      <td>0.65</td>\n",
              "      <td>1.19</td>\n",
              "      <td>0.90</td>\n",
              "      <td>0.86</td>\n",
              "      <td>0.26</td>\n",
              "      <td>1.00</td>\n",
              "      <td>0.64</td>\n",
              "      <td>1.07</td>\n",
              "      <td>0.71</td>\n",
              "    </tr>\n",
              "    <tr>\n",
              "      <th>72</th>\n",
              "      <td>2020</td>\n",
              "      <td>0.18</td>\n",
              "      <td>0.25</td>\n",
              "      <td>0.42</td>\n",
              "      <td>0.35</td>\n",
              "      <td>-0.40</td>\n",
              "      <td>0.07</td>\n",
              "      <td>-0.26</td>\n",
              "      <td>-1.19</td>\n",
              "      <td>-1.03</td>\n",
              "      <td>-1.03</td>\n",
              "      <td>-1.08</td>\n",
              "      <td>-1.83</td>\n",
              "    </tr>\n",
              "    <tr>\n",
              "      <th>73</th>\n",
              "      <td>2021</td>\n",
              "      <td>-1.86</td>\n",
              "      <td>-1.84</td>\n",
              "      <td>-0.63</td>\n",
              "      <td>-0.59</td>\n",
              "      <td>-0.52</td>\n",
              "      <td>-0.15</td>\n",
              "      <td>-1.05</td>\n",
              "      <td>-0.62</td>\n",
              "      <td>-0.69</td>\n",
              "      <td>-1.00</td>\n",
              "      <td>-1.14</td>\n",
              "      <td>-1.61</td>\n",
              "    </tr>\n",
              "    <tr>\n",
              "      <th>74</th>\n",
              "      <td>2022</td>\n",
              "      <td>-0.75</td>\n",
              "      <td>-1.37</td>\n",
              "      <td>-1.79</td>\n",
              "      <td>-1.76</td>\n",
              "      <td>-1.98</td>\n",
              "      <td>-1.41</td>\n",
              "      <td>-0.95</td>\n",
              "      <td>-1.45</td>\n",
              "      <td>-1.79</td>\n",
              "      <td>-1.78</td>\n",
              "      <td>-0.63</td>\n",
              "      <td>-1.97</td>\n",
              "    </tr>\n",
              "    <tr>\n",
              "      <th>75</th>\n",
              "      <td>2023</td>\n",
              "      <td>-1.34</td>\n",
              "      <td>-1.49</td>\n",
              "      <td>-0.15</td>\n",
              "      <td>0.12</td>\n",
              "      <td>1.44</td>\n",
              "      <td>0.78</td>\n",
              "      <td>1.26</td>\n",
              "      <td>-9.99</td>\n",
              "      <td>-9.99</td>\n",
              "      <td>-9.99</td>\n",
              "      <td>-9.99</td>\n",
              "      <td>-9.99</td>\n",
              "    </tr>\n",
              "  </tbody>\n",
              "</table>\n",
              "<p>76 rows × 13 columns</p>\n",
              "</div>"
            ],
            "text/plain": [
              "      0     1     2     3     4     5     6     7     8     9     10    11  \\\n",
              "0   1948  0.26  0.43  0.72  0.21  0.24  0.41  0.08  0.26  0.45 -0.64 -0.21   \n",
              "1   1949  0.18  0.13 -0.55  0.15  0.43  0.00 -0.06  0.08 -0.42 -0.59 -0.29   \n",
              "2   1950 -0.74 -1.70 -1.43 -1.29 -1.22 -1.69 -1.69 -0.96 -0.95 -1.27 -1.12   \n",
              "3   1951 -1.13 -0.69 -0.24  0.33  0.71  0.19  1.32  1.01  1.10  1.15  0.92   \n",
              "4   1952  0.64  0.56  0.07  0.71 -0.50 -0.74 -0.54 -0.12 -0.03 -0.06 -0.02   \n",
              "..   ...   ...   ...   ...   ...   ...   ...   ...   ...   ...   ...   ...   \n",
              "71  2019  0.43  1.58  0.90  0.65  1.19  0.90  0.86  0.26  1.00  0.64  1.07   \n",
              "72  2020  0.18  0.25  0.42  0.35 -0.40  0.07 -0.26 -1.19 -1.03 -1.03 -1.08   \n",
              "73  2021 -1.86 -1.84 -0.63 -0.59 -0.52 -0.15 -1.05 -0.62 -0.69 -1.00 -1.14   \n",
              "74  2022 -0.75 -1.37 -1.79 -1.76 -1.98 -1.41 -0.95 -1.45 -1.79 -1.78 -0.63   \n",
              "75  2023 -1.34 -1.49 -0.15  0.12  1.44  0.78  1.26 -9.99 -9.99 -9.99 -9.99   \n",
              "\n",
              "      12  \n",
              "0   0.58  \n",
              "1  -0.91  \n",
              "2  -1.61  \n",
              "3   0.83  \n",
              "4   0.41  \n",
              "..   ...  \n",
              "71  0.71  \n",
              "72 -1.83  \n",
              "73 -1.61  \n",
              "74 -1.97  \n",
              "75 -9.99  \n",
              "\n",
              "[76 rows x 13 columns]"
            ]
          },
          "execution_count": 2,
          "metadata": {},
          "output_type": "execute_result"
        }
      ],
      "source": [
        "enso\n"
      ]
    },
    {
      "cell_type": "markdown",
      "metadata": {
        "id": "VLxGBOjr10j8"
      },
      "source": [
        "Now that we have read in the data, it's time to get them into a format that we can use with pandas.  Time series should be a single column, with a date column with a value of each index in each row.\n",
        "\n",
        "We'll approach this by creating a new data frame and reformatting the 12 x nyears array to a 1 x nobservations array corresponding with each date.\n",
        "\n",
        "Let's start with ENSO."
      ]
    },
    {
      "cell_type": "code",
      "execution_count": 3,
      "metadata": {
        "id": "EDEbqaKe24Eg"
      },
      "outputs": [],
      "source": [
        "enso_new=pd.DataFrame()\n"
      ]
    },
    {
      "cell_type": "code",
      "execution_count": 4,
      "metadata": {
        "colab": {
          "base_uri": "https://localhost:8080/",
          "height": 52
        },
        "id": "48CfeN2x9l2K",
        "outputId": "7bce10d5-65dd-4ac5-fc0f-b75e032f04b4"
      },
      "outputs": [
        {
          "data": {
            "text/html": [
              "<div>\n",
              "<style scoped>\n",
              "    .dataframe tbody tr th:only-of-type {\n",
              "        vertical-align: middle;\n",
              "    }\n",
              "\n",
              "    .dataframe tbody tr th {\n",
              "        vertical-align: top;\n",
              "    }\n",
              "\n",
              "    .dataframe thead th {\n",
              "        text-align: right;\n",
              "    }\n",
              "</style>\n",
              "<table border=\"1\" class=\"dataframe\">\n",
              "  <thead>\n",
              "    <tr style=\"text-align: right;\">\n",
              "      <th></th>\n",
              "    </tr>\n",
              "  </thead>\n",
              "  <tbody>\n",
              "  </tbody>\n",
              "</table>\n",
              "</div>"
            ],
            "text/plain": [
              "Empty DataFrame\n",
              "Columns: []\n",
              "Index: []"
            ]
          },
          "execution_count": 4,
          "metadata": {},
          "output_type": "execute_result"
        }
      ],
      "source": [
        "enso_new"
      ]
    },
    {
      "cell_type": "markdown",
      "metadata": {
        "id": "-6qzie2F2510"
      },
      "source": [
        "Let's create an ENSO 'Date' column that has a Datetime Index.  The pandas DatetimeIndex can be used to generate dates with a given frequency."
      ]
    },
    {
      "cell_type": "code",
      "execution_count": 12,
      "metadata": {
        "colab": {
          "base_uri": "https://localhost:8080/"
        },
        "id": "zkrQcKGj3H5q",
        "outputId": "39b13384-96f6-4a4b-ab54-71583a9ebbc7"
      },
      "outputs": [],
      "source": [
        "enso_new['Date']=pd.date_range(start=pd.to_datetime('1948-01-01'),end=pd.to_datetime('2022-12-31'),freq=\"MS\")\n",
        "\n",
        "enso_new = enso_new.set_index('Date')"
      ]
    },
    {
      "cell_type": "code",
      "execution_count": 9,
      "metadata": {
        "colab": {
          "base_uri": "https://localhost:8080/",
          "height": 461
        },
        "id": "euq43rZkg7XP",
        "outputId": "2dc44eed-5d9c-4d6c-c4ce-7b139956c3ac"
      },
      "outputs": [
        {
          "data": {
            "text/html": [
              "<div>\n",
              "<style scoped>\n",
              "    .dataframe tbody tr th:only-of-type {\n",
              "        vertical-align: middle;\n",
              "    }\n",
              "\n",
              "    .dataframe tbody tr th {\n",
              "        vertical-align: top;\n",
              "    }\n",
              "\n",
              "    .dataframe thead th {\n",
              "        text-align: right;\n",
              "    }\n",
              "</style>\n",
              "<table border=\"1\" class=\"dataframe\">\n",
              "  <thead>\n",
              "    <tr style=\"text-align: right;\">\n",
              "      <th></th>\n",
              "    </tr>\n",
              "    <tr>\n",
              "      <th>Date</th>\n",
              "    </tr>\n",
              "  </thead>\n",
              "  <tbody>\n",
              "    <tr>\n",
              "      <th>1948-01-01</th>\n",
              "    </tr>\n",
              "    <tr>\n",
              "      <th>1948-02-01</th>\n",
              "    </tr>\n",
              "    <tr>\n",
              "      <th>1948-03-01</th>\n",
              "    </tr>\n",
              "    <tr>\n",
              "      <th>1948-04-01</th>\n",
              "    </tr>\n",
              "    <tr>\n",
              "      <th>1948-05-01</th>\n",
              "    </tr>\n",
              "    <tr>\n",
              "      <th>...</th>\n",
              "    </tr>\n",
              "    <tr>\n",
              "      <th>2022-08-01</th>\n",
              "    </tr>\n",
              "    <tr>\n",
              "      <th>2022-09-01</th>\n",
              "    </tr>\n",
              "    <tr>\n",
              "      <th>2022-10-01</th>\n",
              "    </tr>\n",
              "    <tr>\n",
              "      <th>2022-11-01</th>\n",
              "    </tr>\n",
              "    <tr>\n",
              "      <th>2022-12-01</th>\n",
              "    </tr>\n",
              "  </tbody>\n",
              "</table>\n",
              "<p>900 rows × 0 columns</p>\n",
              "</div>"
            ],
            "text/plain": [
              "Empty DataFrame\n",
              "Columns: []\n",
              "Index: [1948-01-01 00:00:00, 1948-02-01 00:00:00, 1948-03-01 00:00:00, 1948-04-01 00:00:00, 1948-05-01 00:00:00, 1948-06-01 00:00:00, 1948-07-01 00:00:00, 1948-08-01 00:00:00, 1948-09-01 00:00:00, 1948-10-01 00:00:00, 1948-11-01 00:00:00, 1948-12-01 00:00:00, 1949-01-01 00:00:00, 1949-02-01 00:00:00, 1949-03-01 00:00:00, 1949-04-01 00:00:00, 1949-05-01 00:00:00, 1949-06-01 00:00:00, 1949-07-01 00:00:00, 1949-08-01 00:00:00, 1949-09-01 00:00:00, 1949-10-01 00:00:00, 1949-11-01 00:00:00, 1949-12-01 00:00:00, 1950-01-01 00:00:00, 1950-02-01 00:00:00, 1950-03-01 00:00:00, 1950-04-01 00:00:00, 1950-05-01 00:00:00, 1950-06-01 00:00:00, 1950-07-01 00:00:00, 1950-08-01 00:00:00, 1950-09-01 00:00:00, 1950-10-01 00:00:00, 1950-11-01 00:00:00, 1950-12-01 00:00:00, 1951-01-01 00:00:00, 1951-02-01 00:00:00, 1951-03-01 00:00:00, 1951-04-01 00:00:00, 1951-05-01 00:00:00, 1951-06-01 00:00:00, 1951-07-01 00:00:00, 1951-08-01 00:00:00, 1951-09-01 00:00:00, 1951-10-01 00:00:00, 1951-11-01 00:00:00, 1951-12-01 00:00:00, 1952-01-01 00:00:00, 1952-02-01 00:00:00, 1952-03-01 00:00:00, 1952-04-01 00:00:00, 1952-05-01 00:00:00, 1952-06-01 00:00:00, 1952-07-01 00:00:00, 1952-08-01 00:00:00, 1952-09-01 00:00:00, 1952-10-01 00:00:00, 1952-11-01 00:00:00, 1952-12-01 00:00:00, 1953-01-01 00:00:00, 1953-02-01 00:00:00, 1953-03-01 00:00:00, 1953-04-01 00:00:00, 1953-05-01 00:00:00, 1953-06-01 00:00:00, 1953-07-01 00:00:00, 1953-08-01 00:00:00, 1953-09-01 00:00:00, 1953-10-01 00:00:00, 1953-11-01 00:00:00, 1953-12-01 00:00:00, 1954-01-01 00:00:00, 1954-02-01 00:00:00, 1954-03-01 00:00:00, 1954-04-01 00:00:00, 1954-05-01 00:00:00, 1954-06-01 00:00:00, 1954-07-01 00:00:00, 1954-08-01 00:00:00, 1954-09-01 00:00:00, 1954-10-01 00:00:00, 1954-11-01 00:00:00, 1954-12-01 00:00:00, 1955-01-01 00:00:00, 1955-02-01 00:00:00, 1955-03-01 00:00:00, 1955-04-01 00:00:00, 1955-05-01 00:00:00, 1955-06-01 00:00:00, 1955-07-01 00:00:00, 1955-08-01 00:00:00, 1955-09-01 00:00:00, 1955-10-01 00:00:00, 1955-11-01 00:00:00, 1955-12-01 00:00:00, 1956-01-01 00:00:00, 1956-02-01 00:00:00, 1956-03-01 00:00:00, 1956-04-01 00:00:00, ...]\n",
              "\n",
              "[900 rows x 0 columns]"
            ]
          },
          "execution_count": 9,
          "metadata": {},
          "output_type": "execute_result"
        }
      ],
      "source": [
        "enso_new"
      ]
    },
    {
      "cell_type": "markdown",
      "metadata": {
        "id": "bu45isJ83QLA"
      },
      "source": [
        "Now, let's stuff the data into our array.  We can use the stack() command to take the 2D array and create a 1D column."
      ]
    },
    {
      "cell_type": "code",
      "execution_count": 10,
      "metadata": {
        "colab": {
          "base_uri": "https://localhost:8080/"
        },
        "id": "7_uQVU_Vrew1",
        "outputId": "99024edc-d0b7-4077-d03f-9d90cb65642f"
      },
      "outputs": [
        {
          "data": {
            "text/plain": [
              "912"
            ]
          },
          "execution_count": 10,
          "metadata": {},
          "output_type": "execute_result"
        }
      ],
      "source": [
        "len(enso.loc[:,1:].stack().values)"
      ]
    },
    {
      "cell_type": "code",
      "execution_count": 11,
      "metadata": {
        "id": "IVYoq7E23LFf"
      },
      "outputs": [
        {
          "ename": "ValueError",
          "evalue": "Length of values (912) does not match length of index (900)",
          "output_type": "error",
          "traceback": [
            "\u001b[0;31m---------------------------------------------------------------------------\u001b[0m",
            "\u001b[0;31mValueError\u001b[0m                                Traceback (most recent call last)",
            "Cell \u001b[0;32mIn[11], line 1\u001b[0m\n\u001b[0;32m----> 1\u001b[0m \u001b[43menso_new\u001b[49m\u001b[43m[\u001b[49m\u001b[38;5;124;43m'\u001b[39;49m\u001b[38;5;124;43mENSO\u001b[39;49m\u001b[38;5;124;43m'\u001b[39;49m\u001b[43m]\u001b[49m\u001b[38;5;241m=\u001b[39menso\u001b[38;5;241m.\u001b[39mloc[:,\u001b[38;5;241m1\u001b[39m:]\u001b[38;5;241m.\u001b[39mstack()\u001b[38;5;241m.\u001b[39mvalues\n",
            "File \u001b[0;32m~/opt/anaconda3/envs/pythia/lib/python3.12/site-packages/pandas/core/frame.py:4299\u001b[0m, in \u001b[0;36mDataFrame.__setitem__\u001b[0;34m(self, key, value)\u001b[0m\n\u001b[1;32m   4296\u001b[0m     \u001b[38;5;28mself\u001b[39m\u001b[38;5;241m.\u001b[39m_setitem_array([key], value)\n\u001b[1;32m   4297\u001b[0m \u001b[38;5;28;01melse\u001b[39;00m:\n\u001b[1;32m   4298\u001b[0m     \u001b[38;5;66;03m# set column\u001b[39;00m\n\u001b[0;32m-> 4299\u001b[0m     \u001b[38;5;28;43mself\u001b[39;49m\u001b[38;5;241;43m.\u001b[39;49m\u001b[43m_set_item\u001b[49m\u001b[43m(\u001b[49m\u001b[43mkey\u001b[49m\u001b[43m,\u001b[49m\u001b[43m \u001b[49m\u001b[43mvalue\u001b[49m\u001b[43m)\u001b[49m\n",
            "File \u001b[0;32m~/opt/anaconda3/envs/pythia/lib/python3.12/site-packages/pandas/core/frame.py:4512\u001b[0m, in \u001b[0;36mDataFrame._set_item\u001b[0;34m(self, key, value)\u001b[0m\n\u001b[1;32m   4502\u001b[0m \u001b[38;5;28;01mdef\u001b[39;00m \u001b[38;5;21m_set_item\u001b[39m(\u001b[38;5;28mself\u001b[39m, key, value) \u001b[38;5;241m-\u001b[39m\u001b[38;5;241m>\u001b[39m \u001b[38;5;28;01mNone\u001b[39;00m:\n\u001b[1;32m   4503\u001b[0m \u001b[38;5;250m    \u001b[39m\u001b[38;5;124;03m\"\"\"\u001b[39;00m\n\u001b[1;32m   4504\u001b[0m \u001b[38;5;124;03m    Add series to DataFrame in specified column.\u001b[39;00m\n\u001b[1;32m   4505\u001b[0m \n\u001b[0;32m   (...)\u001b[0m\n\u001b[1;32m   4510\u001b[0m \u001b[38;5;124;03m    ensure homogeneity.\u001b[39;00m\n\u001b[1;32m   4511\u001b[0m \u001b[38;5;124;03m    \"\"\"\u001b[39;00m\n\u001b[0;32m-> 4512\u001b[0m     value, refs \u001b[38;5;241m=\u001b[39m \u001b[38;5;28;43mself\u001b[39;49m\u001b[38;5;241;43m.\u001b[39;49m\u001b[43m_sanitize_column\u001b[49m\u001b[43m(\u001b[49m\u001b[43mvalue\u001b[49m\u001b[43m)\u001b[49m\n\u001b[1;32m   4514\u001b[0m     \u001b[38;5;28;01mif\u001b[39;00m (\n\u001b[1;32m   4515\u001b[0m         key \u001b[38;5;129;01min\u001b[39;00m \u001b[38;5;28mself\u001b[39m\u001b[38;5;241m.\u001b[39mcolumns\n\u001b[1;32m   4516\u001b[0m         \u001b[38;5;129;01mand\u001b[39;00m value\u001b[38;5;241m.\u001b[39mndim \u001b[38;5;241m==\u001b[39m \u001b[38;5;241m1\u001b[39m\n\u001b[1;32m   4517\u001b[0m         \u001b[38;5;129;01mand\u001b[39;00m \u001b[38;5;129;01mnot\u001b[39;00m \u001b[38;5;28misinstance\u001b[39m(value\u001b[38;5;241m.\u001b[39mdtype, ExtensionDtype)\n\u001b[1;32m   4518\u001b[0m     ):\n\u001b[1;32m   4519\u001b[0m         \u001b[38;5;66;03m# broadcast across multiple columns if necessary\u001b[39;00m\n\u001b[1;32m   4520\u001b[0m         \u001b[38;5;28;01mif\u001b[39;00m \u001b[38;5;129;01mnot\u001b[39;00m \u001b[38;5;28mself\u001b[39m\u001b[38;5;241m.\u001b[39mcolumns\u001b[38;5;241m.\u001b[39mis_unique \u001b[38;5;129;01mor\u001b[39;00m \u001b[38;5;28misinstance\u001b[39m(\u001b[38;5;28mself\u001b[39m\u001b[38;5;241m.\u001b[39mcolumns, MultiIndex):\n",
            "File \u001b[0;32m~/opt/anaconda3/envs/pythia/lib/python3.12/site-packages/pandas/core/frame.py:5253\u001b[0m, in \u001b[0;36mDataFrame._sanitize_column\u001b[0;34m(self, value)\u001b[0m\n\u001b[1;32m   5250\u001b[0m     \u001b[38;5;28;01mreturn\u001b[39;00m _reindex_for_setitem(value, \u001b[38;5;28mself\u001b[39m\u001b[38;5;241m.\u001b[39mindex)\n\u001b[1;32m   5252\u001b[0m \u001b[38;5;28;01mif\u001b[39;00m is_list_like(value):\n\u001b[0;32m-> 5253\u001b[0m     \u001b[43mcom\u001b[49m\u001b[38;5;241;43m.\u001b[39;49m\u001b[43mrequire_length_match\u001b[49m\u001b[43m(\u001b[49m\u001b[43mvalue\u001b[49m\u001b[43m,\u001b[49m\u001b[43m \u001b[49m\u001b[38;5;28;43mself\u001b[39;49m\u001b[38;5;241;43m.\u001b[39;49m\u001b[43mindex\u001b[49m\u001b[43m)\u001b[49m\n\u001b[1;32m   5254\u001b[0m arr \u001b[38;5;241m=\u001b[39m sanitize_array(value, \u001b[38;5;28mself\u001b[39m\u001b[38;5;241m.\u001b[39mindex, copy\u001b[38;5;241m=\u001b[39m\u001b[38;5;28;01mTrue\u001b[39;00m, allow_2d\u001b[38;5;241m=\u001b[39m\u001b[38;5;28;01mTrue\u001b[39;00m)\n\u001b[1;32m   5255\u001b[0m \u001b[38;5;28;01mif\u001b[39;00m (\n\u001b[1;32m   5256\u001b[0m     \u001b[38;5;28misinstance\u001b[39m(value, Index)\n\u001b[1;32m   5257\u001b[0m     \u001b[38;5;129;01mand\u001b[39;00m value\u001b[38;5;241m.\u001b[39mdtype \u001b[38;5;241m==\u001b[39m \u001b[38;5;124m\"\u001b[39m\u001b[38;5;124mobject\u001b[39m\u001b[38;5;124m\"\u001b[39m\n\u001b[0;32m   (...)\u001b[0m\n\u001b[1;32m   5260\u001b[0m     \u001b[38;5;66;03m# TODO: Remove kludge in sanitize_array for string mode when enforcing\u001b[39;00m\n\u001b[1;32m   5261\u001b[0m     \u001b[38;5;66;03m# this deprecation\u001b[39;00m\n",
            "File \u001b[0;32m~/opt/anaconda3/envs/pythia/lib/python3.12/site-packages/pandas/core/common.py:571\u001b[0m, in \u001b[0;36mrequire_length_match\u001b[0;34m(data, index)\u001b[0m\n\u001b[1;32m    567\u001b[0m \u001b[38;5;250m\u001b[39m\u001b[38;5;124;03m\"\"\"\u001b[39;00m\n\u001b[1;32m    568\u001b[0m \u001b[38;5;124;03mCheck the length of data matches the length of the index.\u001b[39;00m\n\u001b[1;32m    569\u001b[0m \u001b[38;5;124;03m\"\"\"\u001b[39;00m\n\u001b[1;32m    570\u001b[0m \u001b[38;5;28;01mif\u001b[39;00m \u001b[38;5;28mlen\u001b[39m(data) \u001b[38;5;241m!=\u001b[39m \u001b[38;5;28mlen\u001b[39m(index):\n\u001b[0;32m--> 571\u001b[0m     \u001b[38;5;28;01mraise\u001b[39;00m \u001b[38;5;167;01mValueError\u001b[39;00m(\n\u001b[1;32m    572\u001b[0m         \u001b[38;5;124m\"\u001b[39m\u001b[38;5;124mLength of values \u001b[39m\u001b[38;5;124m\"\u001b[39m\n\u001b[1;32m    573\u001b[0m         \u001b[38;5;124mf\u001b[39m\u001b[38;5;124m\"\u001b[39m\u001b[38;5;124m(\u001b[39m\u001b[38;5;132;01m{\u001b[39;00m\u001b[38;5;28mlen\u001b[39m(data)\u001b[38;5;132;01m}\u001b[39;00m\u001b[38;5;124m) \u001b[39m\u001b[38;5;124m\"\u001b[39m\n\u001b[1;32m    574\u001b[0m         \u001b[38;5;124m\"\u001b[39m\u001b[38;5;124mdoes not match length of index \u001b[39m\u001b[38;5;124m\"\u001b[39m\n\u001b[1;32m    575\u001b[0m         \u001b[38;5;124mf\u001b[39m\u001b[38;5;124m\"\u001b[39m\u001b[38;5;124m(\u001b[39m\u001b[38;5;132;01m{\u001b[39;00m\u001b[38;5;28mlen\u001b[39m(index)\u001b[38;5;132;01m}\u001b[39;00m\u001b[38;5;124m)\u001b[39m\u001b[38;5;124m\"\u001b[39m\n\u001b[1;32m    576\u001b[0m     )\n",
            "\u001b[0;31mValueError\u001b[0m: Length of values (912) does not match length of index (900)"
          ]
        }
      ],
      "source": [
        "enso_new['ENSO']=enso.loc[:,1:].stack().values"
      ]
    },
    {
      "cell_type": "markdown",
      "metadata": {
        "id": "_uLApMIi3Ymd"
      },
      "source": [
        "How does it look?"
      ]
    },
    {
      "cell_type": "code",
      "execution_count": null,
      "metadata": {
        "colab": {
          "base_uri": "https://localhost:8080/",
          "height": 447
        },
        "id": "2ATZDtym3aeX",
        "outputId": "16d4c481-eecc-4917-96af-0c75cd855c75"
      },
      "outputs": [],
      "source": [
        "enso_new"
      ]
    },
    {
      "cell_type": "code",
      "execution_count": null,
      "metadata": {
        "colab": {
          "base_uri": "https://localhost:8080/",
          "height": 317
        },
        "id": "nK9YJaHu3fRo",
        "outputId": "949cb584-101c-4e59-e8a6-4a2dba157e36"
      },
      "outputs": [],
      "source": [
        "enso_new.plot()"
      ]
    },
    {
      "cell_type": "markdown",
      "metadata": {
        "id": "RqWXOVh64slQ"
      },
      "source": [
        "## In-class exercise, do this for all of the 4 climate indicies.\n",
        "\n",
        "Be sure to check the date ranges of your indicies by carefully inspecting the dataframes!"
      ]
    },
    {
      "cell_type": "code",
      "execution_count": 13,
      "metadata": {
        "colab": {
          "base_uri": "https://localhost:8080/"
        },
        "id": "zWxDunG_4pBi",
        "outputId": "ba6a329e-3f07-469f-9022-89d79455fad2"
      },
      "outputs": [
        {
          "ename": "AttributeError",
          "evalue": "module 'pandas' has no attribute 'datetime'",
          "output_type": "error",
          "traceback": [
            "\u001b[0;31m---------------------------------------------------------------------------\u001b[0m",
            "\u001b[0;31mAttributeError\u001b[0m                            Traceback (most recent call last)",
            "Cell \u001b[0;32mIn[13], line 5\u001b[0m\n\u001b[1;32m      2\u001b[0m pdo_new\u001b[38;5;241m=\u001b[39mpd\u001b[38;5;241m.\u001b[39mDataFrame()\n\u001b[1;32m      3\u001b[0m ao_new\u001b[38;5;241m=\u001b[39mpd\u001b[38;5;241m.\u001b[39mDataFrame()\n\u001b[0;32m----> 5\u001b[0m nao_new[\u001b[38;5;124m'\u001b[39m\u001b[38;5;124mDate\u001b[39m\u001b[38;5;124m'\u001b[39m] \u001b[38;5;241m=\u001b[39m pd\u001b[38;5;241m.\u001b[39mdate_range(start\u001b[38;5;241m=\u001b[39m\u001b[43mpd\u001b[49m\u001b[38;5;241;43m.\u001b[39;49m\u001b[43mdatetime\u001b[49m(\u001b[38;5;241m1948\u001b[39m,\u001b[38;5;241m1\u001b[39m,\u001b[38;5;241m1\u001b[39m),end\u001b[38;5;241m=\u001b[39mpd\u001b[38;5;241m.\u001b[39mdatetime(\u001b[38;5;241m2022\u001b[39m,\u001b[38;5;241m12\u001b[39m,\u001b[38;5;241m1\u001b[39m),freq\u001b[38;5;241m=\u001b[39m\u001b[38;5;124m\"\u001b[39m\u001b[38;5;124mMS\u001b[39m\u001b[38;5;124m\"\u001b[39m)\n\u001b[1;32m      6\u001b[0m pdo_new[\u001b[38;5;124m'\u001b[39m\u001b[38;5;124mDate\u001b[39m\u001b[38;5;124m'\u001b[39m] \u001b[38;5;241m=\u001b[39m pd\u001b[38;5;241m.\u001b[39mdate_range(start\u001b[38;5;241m=\u001b[39mpd\u001b[38;5;241m.\u001b[39mdatetime(\u001b[38;5;241m1948\u001b[39m,\u001b[38;5;241m1\u001b[39m,\u001b[38;5;241m1\u001b[39m),end\u001b[38;5;241m=\u001b[39mpd\u001b[38;5;241m.\u001b[39mdatetime(\u001b[38;5;241m2022\u001b[39m,\u001b[38;5;241m12\u001b[39m,\u001b[38;5;241m1\u001b[39m),freq\u001b[38;5;241m=\u001b[39m\u001b[38;5;124m\"\u001b[39m\u001b[38;5;124mMS\u001b[39m\u001b[38;5;124m\"\u001b[39m)\n\u001b[1;32m      7\u001b[0m ao_new[\u001b[38;5;124m'\u001b[39m\u001b[38;5;124mDate\u001b[39m\u001b[38;5;124m'\u001b[39m] \u001b[38;5;241m=\u001b[39m pd\u001b[38;5;241m.\u001b[39mdate_range(start\u001b[38;5;241m=\u001b[39mpd\u001b[38;5;241m.\u001b[39mdatetime(\u001b[38;5;241m1950\u001b[39m,\u001b[38;5;241m1\u001b[39m,\u001b[38;5;241m1\u001b[39m),end\u001b[38;5;241m=\u001b[39mpd\u001b[38;5;241m.\u001b[39mdatetime(\u001b[38;5;241m2022\u001b[39m,\u001b[38;5;241m12\u001b[39m,\u001b[38;5;241m1\u001b[39m),freq\u001b[38;5;241m=\u001b[39m\u001b[38;5;124m\"\u001b[39m\u001b[38;5;124mMS\u001b[39m\u001b[38;5;124m\"\u001b[39m)\n",
            "\u001b[0;31mAttributeError\u001b[0m: module 'pandas' has no attribute 'datetime'"
          ]
        }
      ],
      "source": [
        "nao_new=pd.DataFrame()\n",
        "pdo_new=pd.DataFrame()\n",
        "ao_new=pd.DataFrame()\n",
        "\n",
        "nao_new['Date'] = pd.date_range(start=pd.datetime(1948,1,1),end=pd.datetime(2022,12,1),freq=\"MS\")\n",
        "pdo_new['Date'] = pd.date_range(start=pd.datetime(1948,1,1),end=pd.datetime(2022,12,1),freq=\"MS\")\n",
        "ao_new['Date'] = pd.date_range(start=pd.datetime(1950,1,1),end=pd.datetime(2022,12,1),freq=\"MS\")\n",
        "\n",
        "nao_new = nao_new.set_index('Date')\n",
        "pdo_new = pdo_new.set_index('Date')\n",
        "ao_new = ao_new.set_index('Date')\n",
        "\n",
        "nao_new['NAO']=nao.loc[:,1:].stack().values\n",
        "pdo_new['PDO']=pdo.loc[:,1:].stack().values\n",
        "ao_new['AO']=ao.loc[:,1:].stack().values"
      ]
    },
    {
      "cell_type": "code",
      "execution_count": null,
      "metadata": {},
      "outputs": [],
      "source": [
        "pdo_new"
      ]
    },
    {
      "cell_type": "code",
      "execution_count": null,
      "metadata": {
        "colab": {
          "base_uri": "https://localhost:8080/",
          "height": 351
        },
        "id": "XAQ_cpZrjVvx",
        "outputId": "7f1851a0-0b41-4461-ad6f-33b593ff5b4f"
      },
      "outputs": [],
      "source": [
        "%pylab inline\n",
        "nao_new['NAO'].plot()\n",
        "plt.ylim([-3,3])\n",
        "plt.xlim(['11-01-2018','01-01-2020'])"
      ]
    },
    {
      "cell_type": "markdown",
      "metadata": {
        "id": "Ay3jfSBt5BtK"
      },
      "source": [
        "# Merging dataframes\n",
        "\n",
        "Now that we have these indicies, we can join them together into one dataset.  We can use the pd.merge() command to do this for each of our dataframes one by one.  We need to tell pandas how to do the merge, and we do that by specifying the left_index and right_index, where left and right are the data frames given first and second in the pd.merge command."
      ]
    },
    {
      "cell_type": "code",
      "execution_count": null,
      "metadata": {
        "id": "b95J8eta49gq"
      },
      "outputs": [],
      "source": [
        "newdf_all = pd.merge(enso_new,pdo_new, left_index=True, right_index=True)"
      ]
    },
    {
      "cell_type": "code",
      "execution_count": null,
      "metadata": {
        "colab": {
          "base_uri": "https://localhost:8080/",
          "height": 479
        },
        "id": "6nyjcGxMz0aR",
        "outputId": "6bc724e3-488f-4340-d4fc-01d03cec9e1e"
      },
      "outputs": [],
      "source": [
        "newdf_all"
      ]
    },
    {
      "cell_type": "code",
      "execution_count": null,
      "metadata": {
        "colab": {
          "base_uri": "https://localhost:8080/",
          "height": 317
        },
        "id": "e1OcraIGi6ZZ",
        "outputId": "363f14f3-a4f3-4ffb-9e64-ab3db0b0d014"
      },
      "outputs": [],
      "source": [
        "import numpy as np\n",
        "newdf_all['PDO'][newdf_all['PDO'] <= -9.9] = np.nan\n",
        "newdf_all.plot()"
      ]
    },
    {
      "cell_type": "markdown",
      "metadata": {
        "id": "ObbExleB6taE"
      },
      "source": [
        "Rinse and repeat until all 4 columns are included in your new dataframe."
      ]
    },
    {
      "cell_type": "code",
      "execution_count": null,
      "metadata": {},
      "outputs": [],
      "source": [
        "newdf_all['ENSO'][newdf_all['ENSO'] <= -9.9] = np.nan\n",
        "newdf_all.plot()"
      ]
    },
    {
      "cell_type": "code",
      "execution_count": null,
      "metadata": {
        "id": "KjkGutByz5gp"
      },
      "outputs": [],
      "source": [
        "newdf_all = pd.merge(newdf_all,nao_new, left_index=True, right_index=True)\n",
        "newdf_all['NAO'][newdf_all['NAO'] <= -99.9] = np.nan"
      ]
    },
    {
      "cell_type": "code",
      "execution_count": null,
      "metadata": {
        "colab": {
          "base_uri": "https://localhost:8080/",
          "height": 317
        },
        "id": "qOYOKaCd60el",
        "outputId": "d183c93d-accb-4a88-c95e-2a6fe30a88a2"
      },
      "outputs": [],
      "source": [
        "newdf_all = pd.merge(newdf_all,ao_new, left_index=True, right_index=True)\n",
        "newdf_all['AO'][newdf_all['AO'] <= -99.9] = np.nan\n",
        "\n",
        "newdf_all.plot()"
      ]
    },
    {
      "cell_type": "code",
      "execution_count": null,
      "metadata": {
        "colab": {
          "base_uri": "https://localhost:8080/",
          "height": 479
        },
        "id": "A7ZdA_pArpyn",
        "outputId": "8e393c68-41a3-4fb9-c973-b8ffce5f93ab"
      },
      "outputs": [],
      "source": [
        "newdf_all"
      ]
    },
    {
      "cell_type": "markdown",
      "metadata": {},
      "source": [
        "Let's plot them against each other\n"
      ]
    },
    {
      "cell_type": "code",
      "execution_count": null,
      "metadata": {
        "colab": {
          "base_uri": "https://localhost:8080/",
          "height": 303
        },
        "id": "dZ_-36NCsnsP",
        "outputId": "e4e0b02c-803a-4c84-fc61-1e41d0ac6786"
      },
      "outputs": [],
      "source": [
        "\n",
        "plt.plot(newdf_all['ENSO'].values,newdf_all['PDO'].values,'.r')"
      ]
    },
    {
      "cell_type": "markdown",
      "metadata": {},
      "source": [
        "Or do it all together in one swoop."
      ]
    },
    {
      "cell_type": "code",
      "execution_count": null,
      "metadata": {},
      "outputs": [],
      "source": [
        "# Seaborn visualization library\n",
        "import seaborn as sns\n",
        "# Create the default pairplot\n",
        "sns.pairplot(newdf_all)\n"
      ]
    },
    {
      "cell_type": "markdown",
      "metadata": {
        "id": "OJQXcfM7sVua"
      },
      "source": [
        "Now let's bring in another dataset, the NASA GISS observed temperature record.  How does it match up with the climate indicies above?"
      ]
    },
    {
      "cell_type": "code",
      "execution_count": null,
      "metadata": {
        "id": "iYKHJ69prt75"
      },
      "outputs": [],
      "source": [
        "!wget https://data.giss.nasa.gov/pub/gistemp/gistemp250_GHCNv4.nc.gz"
      ]
    },
    {
      "cell_type": "code",
      "execution_count": null,
      "metadata": {
        "id": "VoGv3zJ0siOe"
      },
      "outputs": [],
      "source": [
        "%matplotlib inline\n",
        "import xarray as xr\n",
        "import pandas as pd\n",
        "import cartopy.crs as ccrs"
      ]
    },
    {
      "cell_type": "code",
      "execution_count": null,
      "metadata": {
        "id": "e6FisQy5smRN"
      },
      "outputs": [],
      "source": [
        "data = xr.open_dataset('gistemp250_GHCNv4.nc.gz')\n",
        "data\n",
        "   "
      ]
    },
    {
      "cell_type": "code",
      "execution_count": null,
      "metadata": {
        "id": "uSmOvYwztCWk"
      },
      "outputs": [],
      "source": [
        "ax = plt.axes(projection=ccrs.Orthographic(-80, 35))\n",
        "data['tempanomaly'].polyfit(dim='time',deg=1).isel(degree=1)['polyfit_coefficients'].plot(ax=ax, transform=ccrs.PlateCarree(), vmin=-0.5, vmax=0.5, cmap='RdBu_r')\n",
        "ax.set_global(); ax.coastlines(); ax.set_title('GISTEMPv4 temperature trend (deg/year)')"
      ]
    },
    {
      "cell_type": "markdown",
      "metadata": {
        "id": "Zh5gST5itR7R"
      },
      "source": [
        "Here we will introduce the sel command to find time and space subsets of our dataset.  Let's pull out the observed temperature trends at the point closest to Champaign-Urbana and examine the relationships with climate indicies."
      ]
    },
    {
      "cell_type": "code",
      "execution_count": null,
      "metadata": {
        "id": "ykEoxQ1HtN_8"
      },
      "outputs": [],
      "source": [
        "temp = pd.DataFrame()\n",
        "\n",
        "temp.index = data.time-pd.Timedelta(14, unit=\"D\")\n",
        "temp['obsT']=data['tempanomaly'].sel(lat=40.,lon=-88., method='nearest')\n",
        "\n",
        "newdf_all = pd.merge(newdf_all,temp,left_index=True, right_index=True)\n"
      ]
    },
    {
      "cell_type": "code",
      "execution_count": null,
      "metadata": {},
      "outputs": [],
      "source": [
        "temp"
      ]
    },
    {
      "cell_type": "code",
      "execution_count": null,
      "metadata": {},
      "outputs": [],
      "source": [
        "newdf_all"
      ]
    },
    {
      "cell_type": "markdown",
      "metadata": {
        "id": "hc4e_VdrtY91"
      },
      "source": [
        "Let's plot!"
      ]
    },
    {
      "cell_type": "code",
      "execution_count": null,
      "metadata": {
        "id": "VXtUB7xqvAOf"
      },
      "outputs": [],
      "source": [
        "%pylab inline\n",
        "import matplotlib as mpl\n",
        "\n",
        "cmap = cm.get_cmap('PiYG', 12)    # 11 discrete colors\n",
        "norm = mpl.colors.Normalize(vmin=1, vmax=13)\n",
        "\n",
        "fig, ((ax1, ax2), (ax3, ax4)) = plt.subplots(nrows=2, ncols=2, figsize=(11,11))\n",
        "\n",
        "ax1.scatter(newdf_all['ENSO'].values,newdf_all['obsT'].values,c=newdf_all.index.month,cmap=cmap,norm=norm)\n",
        "ax1.set_title('ENSO')\n",
        "ax1.set_xlabel('ENSO index')\n",
        "ax1.set_ylabel('Monthly GISTEMP anomaly')\n",
        "ax1.set_ylim([-10,10])\n",
        "ax1.set_xlim([-5,5])\n",
        "\n",
        "ax2.scatter(newdf_all['NAO'].values,newdf_all['obsT'].values,c=newdf_all.index.month,cmap=cmap,norm=norm)\n",
        "ax2.set_title('NAO')\n",
        "ax2.set_xlabel('NAO index')\n",
        "ax2.set_ylabel('Monthly GISTEMP anomaly')\n",
        "ax2.set_ylim([-10,10])\n",
        "ax2.set_xlim([-5,5])\n",
        "\n",
        "ax3.scatter(newdf_all['AO'].values,newdf_all['obsT'].values,c=newdf_all.index.month,cmap=cmap,norm=norm)\n",
        "ax3.set_title('AO')\n",
        "ax3.set_xlabel('AO index')\n",
        "ax3.set_ylabel('Monthly GISTEMP anomaly')\n",
        "ax3.set_ylim([-10,10])\n",
        "ax3.set_xlim([-5,5])\n",
        "\n",
        "\n",
        "im=ax4.scatter(newdf_all['PDO'].values,newdf_all['obsT'].values,c=newdf_all.index.month,cmap=cmap,norm=norm)\n",
        "ax4.set_title('PDO')\n",
        "ax4.set_xlabel('PDO index')\n",
        "ax4.set_ylabel('Monthly GISTEMP anomaly')\n",
        "ax4.set_ylim([-10,10])\n",
        "ax4.set_xlim([-5,5])\n",
        "\n",
        "#fig.subplots_adjust(right=0.8)\n",
        "cbar_ax = fig.add_axes([1.05, 0.15, 0.02, 0.7])\n",
        "cbar=fig.colorbar(im, cax=cbar_ax, ticks=1+np.arange(13), norm=norm)\n",
        "cbar.ax.set_yticklabels(['J','F','M','A','M','J','J','A','S','O','N','D',' '])  # vertically oriented colorbar\n",
        "\n",
        "plt.tight_layout()"
      ]
    },
    {
      "cell_type": "code",
      "execution_count": null,
      "metadata": {},
      "outputs": [],
      "source": []
    }
  ],
  "metadata": {
    "colab": {
      "collapsed_sections": [],
      "provenance": []
    },
    "kernelspec": {
      "display_name": "Python 3.9.7 ('py3')",
      "language": "python",
      "name": "python3"
    },
    "language_info": {
      "codemirror_mode": {
        "name": "ipython",
        "version": 3
      },
      "file_extension": ".py",
      "mimetype": "text/x-python",
      "name": "python",
      "nbconvert_exporter": "python",
      "pygments_lexer": "ipython3",
      "version": "3.12.1"
    },
    "vscode": {
      "interpreter": {
        "hash": "7a6b41cc1ffbe7f6292ade58ee9ab0c89bd7fa770a77f101cc95d5710b4e5fa9"
      }
    }
  },
  "nbformat": 4,
  "nbformat_minor": 0
}
